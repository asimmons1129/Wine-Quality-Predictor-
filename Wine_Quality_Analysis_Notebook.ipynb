{
  "cells": [
    {
      "cell_type": "markdown",
      "metadata": {
        "id": "view-in-github",
        "colab_type": "text"
      },
      "source": [
        "<a href=\"https://colab.research.google.com/github/asimmons1129/Wine-Quality-Predictor-/blob/main/Wine_Quality_Analysis_Notebook.ipynb\" target=\"_parent\"><img src=\"https://colab.research.google.com/assets/colab-badge.svg\" alt=\"Open In Colab\"/></a>"
      ]
    },
    {
      "cell_type": "markdown",
      "id": "d82ee174",
      "metadata": {
        "id": "d82ee174"
      },
      "source": [
        "# Wine Quality Analysis Model\n",
        "\n",
        "This notebook will be able to use various Python-based machine learning and data science libraries in an attempt to build a machine learning model that is able to predict the quality of wine based on its components.\n",
        "\n",
        "Data Origin: https://www.kaggle.com/datasets/rajyellow46/wine-quality\n",
        "\n",
        "Data Attributes:\n",
        "Input variables (based on physicochemical tests):\n",
        "1. fixed acidity\n",
        "2. volatile acidity\n",
        "3. citric acid\n",
        "4. residual sugar\n",
        "5. chlorides\n",
        "6. free sulfur dioxide\n",
        "7. total sulfur dioxide\n",
        "8. density\n",
        "9. pH\n",
        "10. sulphates\n",
        "11. alcohol\n",
        "Output variable (based on sensory data):\n",
        "12. quality (score between 0 and 10)"
      ]
    },
    {
      "cell_type": "markdown",
      "id": "c27817d6",
      "metadata": {
        "id": "c27817d6"
      },
      "source": [
        "## Preparing the tools\n",
        "\n",
        "We will use pandas, Matplotlib, and NumPy for data analysis and manipulation"
      ]
    },
    {
      "cell_type": "code",
      "execution_count": null,
      "id": "1ea1a36a",
      "metadata": {
        "id": "1ea1a36a"
      },
      "outputs": [],
      "source": [
        "#importing necessary libraries\n",
        "import pandas as pd\n",
        "import numpy as np\n",
        "import matplotlib.pyplot as plt\n",
        "from imblearn.over_sampling import SMOTE\n",
        "from tkinter import *\n",
        "import seaborn as sns\n",
        "import joblib\n",
        "\n",
        "#allow plots to appear inside notebook\n",
        "%matplotlib inline\n",
        "\n",
        "#importing models from Scikit-Learn\n",
        "from sklearn.linear_model import LogisticRegression\n",
        "from sklearn.neighbors import KNeighborsClassifier\n",
        "from sklearn.ensemble import RandomForestClassifier\n",
        "\n",
        "#importing model evaluations\n",
        "from sklearn.model_selection import train_test_split, cross_val_score\n",
        "from sklearn.model_selection import RandomizedSearchCV, GridSearchCV\n",
        "from sklearn.metrics import confusion_matrix, classification_report\n",
        "from sklearn.metrics import precision_score, recall_score, f1_score, accuracy_score\n",
        "from sklearn.metrics import RocCurveDisplay\n",
        "\n",
        "#other features\n",
        "from sklearn.preprocessing import StandardScaler"
      ]
    },
    {
      "cell_type": "markdown",
      "id": "7602f068",
      "metadata": {
        "id": "7602f068"
      },
      "source": [
        "## Load Data"
      ]
    },
    {
      "cell_type": "code",
      "execution_count": null,
      "id": "caaa39e6",
      "metadata": {
        "id": "caaa39e6",
        "outputId": "300a3220-9a7b-41f5-fa44-c21de8611a1b"
      },
      "outputs": [
        {
          "data": {
            "text/plain": [
              "(6497, 13)"
            ]
          },
          "execution_count": 2,
          "metadata": {},
          "output_type": "execute_result"
        }
      ],
      "source": [
        "#importing csv data\n",
        "wine_data = pd.read_csv(\"winequalityN.csv\")\n",
        "#show number of rows and columns\n",
        "wine_data.shape"
      ]
    },
    {
      "cell_type": "markdown",
      "id": "beb52bc2",
      "metadata": {
        "id": "beb52bc2"
      },
      "source": [
        "## Data Exploration"
      ]
    },
    {
      "cell_type": "code",
      "execution_count": null,
      "id": "c3caf95c",
      "metadata": {
        "id": "c3caf95c",
        "outputId": "3f175710-4535-476e-daae-01b6b3ce7933"
      },
      "outputs": [
        {
          "data": {
            "text/html": [
              "<div>\n",
              "<style scoped>\n",
              "    .dataframe tbody tr th:only-of-type {\n",
              "        vertical-align: middle;\n",
              "    }\n",
              "\n",
              "    .dataframe tbody tr th {\n",
              "        vertical-align: top;\n",
              "    }\n",
              "\n",
              "    .dataframe thead th {\n",
              "        text-align: right;\n",
              "    }\n",
              "</style>\n",
              "<table border=\"1\" class=\"dataframe\">\n",
              "  <thead>\n",
              "    <tr style=\"text-align: right;\">\n",
              "      <th></th>\n",
              "      <th>type</th>\n",
              "      <th>fixed acidity</th>\n",
              "      <th>volatile acidity</th>\n",
              "      <th>citric acid</th>\n",
              "      <th>residual sugar</th>\n",
              "      <th>chlorides</th>\n",
              "      <th>free sulfur dioxide</th>\n",
              "      <th>total sulfur dioxide</th>\n",
              "      <th>density</th>\n",
              "      <th>pH</th>\n",
              "      <th>sulphates</th>\n",
              "      <th>alcohol</th>\n",
              "      <th>quality</th>\n",
              "    </tr>\n",
              "  </thead>\n",
              "  <tbody>\n",
              "    <tr>\n",
              "      <th>0</th>\n",
              "      <td>white</td>\n",
              "      <td>7.0</td>\n",
              "      <td>0.27</td>\n",
              "      <td>0.36</td>\n",
              "      <td>20.7</td>\n",
              "      <td>0.045</td>\n",
              "      <td>45.0</td>\n",
              "      <td>170.0</td>\n",
              "      <td>1.0010</td>\n",
              "      <td>3.00</td>\n",
              "      <td>0.45</td>\n",
              "      <td>8.8</td>\n",
              "      <td>6</td>\n",
              "    </tr>\n",
              "    <tr>\n",
              "      <th>1</th>\n",
              "      <td>white</td>\n",
              "      <td>6.3</td>\n",
              "      <td>0.30</td>\n",
              "      <td>0.34</td>\n",
              "      <td>1.6</td>\n",
              "      <td>0.049</td>\n",
              "      <td>14.0</td>\n",
              "      <td>132.0</td>\n",
              "      <td>0.9940</td>\n",
              "      <td>3.30</td>\n",
              "      <td>0.49</td>\n",
              "      <td>9.5</td>\n",
              "      <td>6</td>\n",
              "    </tr>\n",
              "    <tr>\n",
              "      <th>2</th>\n",
              "      <td>white</td>\n",
              "      <td>8.1</td>\n",
              "      <td>0.28</td>\n",
              "      <td>0.40</td>\n",
              "      <td>6.9</td>\n",
              "      <td>0.050</td>\n",
              "      <td>30.0</td>\n",
              "      <td>97.0</td>\n",
              "      <td>0.9951</td>\n",
              "      <td>3.26</td>\n",
              "      <td>0.44</td>\n",
              "      <td>10.1</td>\n",
              "      <td>6</td>\n",
              "    </tr>\n",
              "    <tr>\n",
              "      <th>3</th>\n",
              "      <td>white</td>\n",
              "      <td>7.2</td>\n",
              "      <td>0.23</td>\n",
              "      <td>0.32</td>\n",
              "      <td>8.5</td>\n",
              "      <td>0.058</td>\n",
              "      <td>47.0</td>\n",
              "      <td>186.0</td>\n",
              "      <td>0.9956</td>\n",
              "      <td>3.19</td>\n",
              "      <td>0.40</td>\n",
              "      <td>9.9</td>\n",
              "      <td>6</td>\n",
              "    </tr>\n",
              "    <tr>\n",
              "      <th>4</th>\n",
              "      <td>white</td>\n",
              "      <td>7.2</td>\n",
              "      <td>0.23</td>\n",
              "      <td>0.32</td>\n",
              "      <td>8.5</td>\n",
              "      <td>0.058</td>\n",
              "      <td>47.0</td>\n",
              "      <td>186.0</td>\n",
              "      <td>0.9956</td>\n",
              "      <td>3.19</td>\n",
              "      <td>0.40</td>\n",
              "      <td>9.9</td>\n",
              "      <td>6</td>\n",
              "    </tr>\n",
              "  </tbody>\n",
              "</table>\n",
              "</div>"
            ],
            "text/plain": [
              "    type  fixed acidity  volatile acidity  citric acid  residual sugar  \\\n",
              "0  white            7.0              0.27         0.36            20.7   \n",
              "1  white            6.3              0.30         0.34             1.6   \n",
              "2  white            8.1              0.28         0.40             6.9   \n",
              "3  white            7.2              0.23         0.32             8.5   \n",
              "4  white            7.2              0.23         0.32             8.5   \n",
              "\n",
              "   chlorides  free sulfur dioxide  total sulfur dioxide  density    pH  \\\n",
              "0      0.045                 45.0                 170.0   1.0010  3.00   \n",
              "1      0.049                 14.0                 132.0   0.9940  3.30   \n",
              "2      0.050                 30.0                  97.0   0.9951  3.26   \n",
              "3      0.058                 47.0                 186.0   0.9956  3.19   \n",
              "4      0.058                 47.0                 186.0   0.9956  3.19   \n",
              "\n",
              "   sulphates  alcohol  quality  \n",
              "0       0.45      8.8        6  \n",
              "1       0.49      9.5        6  \n",
              "2       0.44     10.1        6  \n",
              "3       0.40      9.9        6  \n",
              "4       0.40      9.9        6  "
            ]
          },
          "execution_count": 3,
          "metadata": {},
          "output_type": "execute_result"
        }
      ],
      "source": [
        "#displays first 5 rows of dataset\n",
        "wine_data.head()"
      ]
    },
    {
      "cell_type": "code",
      "execution_count": null,
      "id": "72ea5b9e",
      "metadata": {
        "id": "72ea5b9e",
        "outputId": "217f2344-c1c7-49a0-d73e-08b7c2af4b4e"
      },
      "outputs": [
        {
          "data": {
            "text/html": [
              "<div>\n",
              "<style scoped>\n",
              "    .dataframe tbody tr th:only-of-type {\n",
              "        vertical-align: middle;\n",
              "    }\n",
              "\n",
              "    .dataframe tbody tr th {\n",
              "        vertical-align: top;\n",
              "    }\n",
              "\n",
              "    .dataframe thead th {\n",
              "        text-align: right;\n",
              "    }\n",
              "</style>\n",
              "<table border=\"1\" class=\"dataframe\">\n",
              "  <thead>\n",
              "    <tr style=\"text-align: right;\">\n",
              "      <th></th>\n",
              "      <th>type</th>\n",
              "      <th>fixed acidity</th>\n",
              "      <th>volatile acidity</th>\n",
              "      <th>citric acid</th>\n",
              "      <th>residual sugar</th>\n",
              "      <th>chlorides</th>\n",
              "      <th>free sulfur dioxide</th>\n",
              "      <th>total sulfur dioxide</th>\n",
              "      <th>density</th>\n",
              "      <th>pH</th>\n",
              "      <th>sulphates</th>\n",
              "      <th>alcohol</th>\n",
              "      <th>quality</th>\n",
              "    </tr>\n",
              "  </thead>\n",
              "  <tbody>\n",
              "    <tr>\n",
              "      <th>6492</th>\n",
              "      <td>red</td>\n",
              "      <td>6.2</td>\n",
              "      <td>0.600</td>\n",
              "      <td>0.08</td>\n",
              "      <td>2.0</td>\n",
              "      <td>0.090</td>\n",
              "      <td>32.0</td>\n",
              "      <td>44.0</td>\n",
              "      <td>0.99490</td>\n",
              "      <td>3.45</td>\n",
              "      <td>0.58</td>\n",
              "      <td>10.5</td>\n",
              "      <td>5</td>\n",
              "    </tr>\n",
              "    <tr>\n",
              "      <th>6493</th>\n",
              "      <td>red</td>\n",
              "      <td>5.9</td>\n",
              "      <td>0.550</td>\n",
              "      <td>0.10</td>\n",
              "      <td>2.2</td>\n",
              "      <td>0.062</td>\n",
              "      <td>39.0</td>\n",
              "      <td>51.0</td>\n",
              "      <td>0.99512</td>\n",
              "      <td>3.52</td>\n",
              "      <td>NaN</td>\n",
              "      <td>11.2</td>\n",
              "      <td>6</td>\n",
              "    </tr>\n",
              "    <tr>\n",
              "      <th>6494</th>\n",
              "      <td>red</td>\n",
              "      <td>6.3</td>\n",
              "      <td>0.510</td>\n",
              "      <td>0.13</td>\n",
              "      <td>2.3</td>\n",
              "      <td>0.076</td>\n",
              "      <td>29.0</td>\n",
              "      <td>40.0</td>\n",
              "      <td>0.99574</td>\n",
              "      <td>3.42</td>\n",
              "      <td>0.75</td>\n",
              "      <td>11.0</td>\n",
              "      <td>6</td>\n",
              "    </tr>\n",
              "    <tr>\n",
              "      <th>6495</th>\n",
              "      <td>red</td>\n",
              "      <td>5.9</td>\n",
              "      <td>0.645</td>\n",
              "      <td>0.12</td>\n",
              "      <td>2.0</td>\n",
              "      <td>0.075</td>\n",
              "      <td>32.0</td>\n",
              "      <td>44.0</td>\n",
              "      <td>0.99547</td>\n",
              "      <td>3.57</td>\n",
              "      <td>0.71</td>\n",
              "      <td>10.2</td>\n",
              "      <td>5</td>\n",
              "    </tr>\n",
              "    <tr>\n",
              "      <th>6496</th>\n",
              "      <td>red</td>\n",
              "      <td>6.0</td>\n",
              "      <td>0.310</td>\n",
              "      <td>0.47</td>\n",
              "      <td>3.6</td>\n",
              "      <td>0.067</td>\n",
              "      <td>18.0</td>\n",
              "      <td>42.0</td>\n",
              "      <td>0.99549</td>\n",
              "      <td>3.39</td>\n",
              "      <td>0.66</td>\n",
              "      <td>11.0</td>\n",
              "      <td>6</td>\n",
              "    </tr>\n",
              "  </tbody>\n",
              "</table>\n",
              "</div>"
            ],
            "text/plain": [
              "     type  fixed acidity  volatile acidity  citric acid  residual sugar  \\\n",
              "6492  red            6.2             0.600         0.08             2.0   \n",
              "6493  red            5.9             0.550         0.10             2.2   \n",
              "6494  red            6.3             0.510         0.13             2.3   \n",
              "6495  red            5.9             0.645         0.12             2.0   \n",
              "6496  red            6.0             0.310         0.47             3.6   \n",
              "\n",
              "      chlorides  free sulfur dioxide  total sulfur dioxide  density    pH  \\\n",
              "6492      0.090                 32.0                  44.0  0.99490  3.45   \n",
              "6493      0.062                 39.0                  51.0  0.99512  3.52   \n",
              "6494      0.076                 29.0                  40.0  0.99574  3.42   \n",
              "6495      0.075                 32.0                  44.0  0.99547  3.57   \n",
              "6496      0.067                 18.0                  42.0  0.99549  3.39   \n",
              "\n",
              "      sulphates  alcohol  quality  \n",
              "6492       0.58     10.5        5  \n",
              "6493        NaN     11.2        6  \n",
              "6494       0.75     11.0        6  \n",
              "6495       0.71     10.2        5  \n",
              "6496       0.66     11.0        6  "
            ]
          },
          "execution_count": 4,
          "metadata": {},
          "output_type": "execute_result"
        }
      ],
      "source": [
        "#displays first 5 columns of dataset\n",
        "wine_data.tail()"
      ]
    },
    {
      "cell_type": "code",
      "execution_count": null,
      "id": "7c1709e4",
      "metadata": {
        "id": "7c1709e4",
        "outputId": "7a41ddb3-68b3-4114-90a6-a15d0bc65901"
      },
      "outputs": [
        {
          "data": {
            "text/plain": [
              "6    2836\n",
              "5    2138\n",
              "7    1079\n",
              "4     216\n",
              "8     193\n",
              "3      30\n",
              "9       5\n",
              "Name: quality, dtype: int64"
            ]
          },
          "execution_count": 5,
          "metadata": {},
          "output_type": "execute_result"
        }
      ],
      "source": [
        "#how many of each classification there are\n",
        "wine_data[\"quality\"].value_counts()"
      ]
    },
    {
      "cell_type": "code",
      "execution_count": null,
      "id": "38b00bd1",
      "metadata": {
        "scrolled": true,
        "id": "38b00bd1",
        "outputId": "8b13d7bc-65d6-48b7-8665-9574965a4b14"
      },
      "outputs": [
        {
          "data": {
            "image/png": "[encoded data removed]",
            "text/plain": [
              "<Figure size 640x480 with 1 Axes>"
            ]
          },
          "metadata": {},
          "output_type": "display_data"
        }
      ],
      "source": [
        "wine_data[\"quality\"].value_counts().plot(kind = \"bar\", color = [\"red\", \"blue\", \"purple\", \"green\", \"yellow\", \"orange\", \"lightblue\"]);"
      ]
    },
    {
      "cell_type": "code",
      "execution_count": null,
      "id": "6b3a0ea4",
      "metadata": {
        "id": "6b3a0ea4",
        "outputId": "006381bf-a9a8-45c6-cb06-09b566c53bb8"
      },
      "outputs": [
        {
          "name": "stdout",
          "output_type": "stream",
          "text": [
            "<class 'pandas.core.frame.DataFrame'>\n",
            "RangeIndex: 6497 entries, 0 to 6496\n",
            "Data columns (total 13 columns):\n",
            " #   Column                Non-Null Count  Dtype  \n",
            "---  ------                --------------  -----  \n",
            " 0   type                  6497 non-null   object \n",
            " 1   fixed acidity         6487 non-null   float64\n",
            " 2   volatile acidity      6489 non-null   float64\n",
            " 3   citric acid           6494 non-null   float64\n",
            " 4   residual sugar        6495 non-null   float64\n",
            " 5   chlorides             6495 non-null   float64\n",
            " 6   free sulfur dioxide   6497 non-null   float64\n",
            " 7   total sulfur dioxide  6497 non-null   float64\n",
            " 8   density               6497 non-null   float64\n",
            " 9   pH                    6488 non-null   float64\n",
            " 10  sulphates             6493 non-null   float64\n",
            " 11  alcohol               6497 non-null   float64\n",
            " 12  quality               6497 non-null   int64  \n",
            "dtypes: float64(11), int64(1), object(1)\n",
            "memory usage: 660.0+ KB\n"
          ]
        }
      ],
      "source": [
        "#display data information such as number of rows, number of columns, column names, and data types\n",
        "wine_data.info()"
      ]
    },
    {
      "cell_type": "code",
      "execution_count": null,
      "id": "b57cead2",
      "metadata": {
        "id": "b57cead2",
        "outputId": "b003ec42-db89-47f2-94bd-24c03c68e3bc"
      },
      "outputs": [
        {
          "data": {
            "text/plain": [
              "type                     0\n",
              "fixed acidity           10\n",
              "volatile acidity         8\n",
              "citric acid              3\n",
              "residual sugar           2\n",
              "chlorides                2\n",
              "free sulfur dioxide      0\n",
              "total sulfur dioxide     0\n",
              "density                  0\n",
              "pH                       9\n",
              "sulphates                4\n",
              "alcohol                  0\n",
              "quality                  0\n",
              "dtype: int64"
            ]
          },
          "execution_count": 8,
          "metadata": {},
          "output_type": "execute_result"
        }
      ],
      "source": [
        "#find out if there are any missing values\n",
        "wine_data.isna().sum()"
      ]
    },
    {
      "cell_type": "code",
      "execution_count": null,
      "id": "19576a94",
      "metadata": {
        "id": "19576a94"
      },
      "outputs": [],
      "source": [
        "#remove rows with null values\n",
        "wine_data.dropna(inplace = True)"
      ]
    },
    {
      "cell_type": "code",
      "execution_count": null,
      "id": "646e81ce",
      "metadata": {
        "id": "646e81ce",
        "outputId": "bbf5ca93-6536-41f0-91bc-a9efd88fbc24"
      },
      "outputs": [
        {
          "data": {
            "text/plain": [
              "type                    0\n",
              "fixed acidity           0\n",
              "volatile acidity        0\n",
              "citric acid             0\n",
              "residual sugar          0\n",
              "chlorides               0\n",
              "free sulfur dioxide     0\n",
              "total sulfur dioxide    0\n",
              "density                 0\n",
              "pH                      0\n",
              "sulphates               0\n",
              "alcohol                 0\n",
              "quality                 0\n",
              "dtype: int64"
            ]
          },
          "execution_count": 10,
          "metadata": {},
          "output_type": "execute_result"
        }
      ],
      "source": [
        "#validate removal of null values\n",
        "wine_data.isna().sum()"
      ]
    },
    {
      "cell_type": "code",
      "execution_count": null,
      "id": "1f5711a9",
      "metadata": {
        "scrolled": true,
        "id": "1f5711a9",
        "outputId": "903a3ec9-cf7f-483d-d661-483bbe4e0085"
      },
      "outputs": [
        {
          "data": {
            "text/html": [
              "<div>\n",
              "<style scoped>\n",
              "    .dataframe tbody tr th:only-of-type {\n",
              "        vertical-align: middle;\n",
              "    }\n",
              "\n",
              "    .dataframe tbody tr th {\n",
              "        vertical-align: top;\n",
              "    }\n",
              "\n",
              "    .dataframe thead th {\n",
              "        text-align: right;\n",
              "    }\n",
              "</style>\n",
              "<table border=\"1\" class=\"dataframe\">\n",
              "  <thead>\n",
              "    <tr style=\"text-align: right;\">\n",
              "      <th></th>\n",
              "      <th>fixed acidity</th>\n",
              "      <th>volatile acidity</th>\n",
              "      <th>citric acid</th>\n",
              "      <th>residual sugar</th>\n",
              "      <th>chlorides</th>\n",
              "      <th>free sulfur dioxide</th>\n",
              "      <th>total sulfur dioxide</th>\n",
              "      <th>density</th>\n",
              "      <th>pH</th>\n",
              "      <th>sulphates</th>\n",
              "      <th>alcohol</th>\n",
              "      <th>quality</th>\n",
              "    </tr>\n",
              "  </thead>\n",
              "  <tbody>\n",
              "    <tr>\n",
              "      <th>count</th>\n",
              "      <td>6463.000000</td>\n",
              "      <td>6463.000000</td>\n",
              "      <td>6463.000000</td>\n",
              "      <td>6463.000000</td>\n",
              "      <td>6463.000000</td>\n",
              "      <td>6463.000000</td>\n",
              "      <td>6463.000000</td>\n",
              "      <td>6463.000000</td>\n",
              "      <td>6463.000000</td>\n",
              "      <td>6463.000000</td>\n",
              "      <td>6463.000000</td>\n",
              "      <td>6463.000000</td>\n",
              "    </tr>\n",
              "    <tr>\n",
              "      <th>mean</th>\n",
              "      <td>7.217755</td>\n",
              "      <td>0.339589</td>\n",
              "      <td>0.318758</td>\n",
              "      <td>5.443958</td>\n",
              "      <td>0.056056</td>\n",
              "      <td>30.516865</td>\n",
              "      <td>115.694492</td>\n",
              "      <td>0.994698</td>\n",
              "      <td>3.218332</td>\n",
              "      <td>0.531150</td>\n",
              "      <td>10.492825</td>\n",
              "      <td>5.818505</td>\n",
              "    </tr>\n",
              "    <tr>\n",
              "      <th>std</th>\n",
              "      <td>1.297913</td>\n",
              "      <td>0.164639</td>\n",
              "      <td>0.145252</td>\n",
              "      <td>4.756852</td>\n",
              "      <td>0.035076</td>\n",
              "      <td>17.758815</td>\n",
              "      <td>56.526736</td>\n",
              "      <td>0.003001</td>\n",
              "      <td>0.160650</td>\n",
              "      <td>0.148913</td>\n",
              "      <td>1.193128</td>\n",
              "      <td>0.873286</td>\n",
              "    </tr>\n",
              "    <tr>\n",
              "      <th>min</th>\n",
              "      <td>3.800000</td>\n",
              "      <td>0.080000</td>\n",
              "      <td>0.000000</td>\n",
              "      <td>0.600000</td>\n",
              "      <td>0.009000</td>\n",
              "      <td>1.000000</td>\n",
              "      <td>6.000000</td>\n",
              "      <td>0.987110</td>\n",
              "      <td>2.720000</td>\n",
              "      <td>0.220000</td>\n",
              "      <td>8.000000</td>\n",
              "      <td>3.000000</td>\n",
              "    </tr>\n",
              "    <tr>\n",
              "      <th>25%</th>\n",
              "      <td>6.400000</td>\n",
              "      <td>0.230000</td>\n",
              "      <td>0.250000</td>\n",
              "      <td>1.800000</td>\n",
              "      <td>0.038000</td>\n",
              "      <td>17.000000</td>\n",
              "      <td>77.000000</td>\n",
              "      <td>0.992330</td>\n",
              "      <td>3.110000</td>\n",
              "      <td>0.430000</td>\n",
              "      <td>9.500000</td>\n",
              "      <td>5.000000</td>\n",
              "    </tr>\n",
              "    <tr>\n",
              "      <th>50%</th>\n",
              "      <td>7.000000</td>\n",
              "      <td>0.290000</td>\n",
              "      <td>0.310000</td>\n",
              "      <td>3.000000</td>\n",
              "      <td>0.047000</td>\n",
              "      <td>29.000000</td>\n",
              "      <td>118.000000</td>\n",
              "      <td>0.994890</td>\n",
              "      <td>3.210000</td>\n",
              "      <td>0.510000</td>\n",
              "      <td>10.300000</td>\n",
              "      <td>6.000000</td>\n",
              "    </tr>\n",
              "    <tr>\n",
              "      <th>75%</th>\n",
              "      <td>7.700000</td>\n",
              "      <td>0.400000</td>\n",
              "      <td>0.390000</td>\n",
              "      <td>8.100000</td>\n",
              "      <td>0.065000</td>\n",
              "      <td>41.000000</td>\n",
              "      <td>156.000000</td>\n",
              "      <td>0.997000</td>\n",
              "      <td>3.320000</td>\n",
              "      <td>0.600000</td>\n",
              "      <td>11.300000</td>\n",
              "      <td>6.000000</td>\n",
              "    </tr>\n",
              "    <tr>\n",
              "      <th>max</th>\n",
              "      <td>15.900000</td>\n",
              "      <td>1.580000</td>\n",
              "      <td>1.660000</td>\n",
              "      <td>65.800000</td>\n",
              "      <td>0.611000</td>\n",
              "      <td>289.000000</td>\n",
              "      <td>440.000000</td>\n",
              "      <td>1.038980</td>\n",
              "      <td>4.010000</td>\n",
              "      <td>2.000000</td>\n",
              "      <td>14.900000</td>\n",
              "      <td>9.000000</td>\n",
              "    </tr>\n",
              "  </tbody>\n",
              "</table>\n",
              "</div>"
            ],
            "text/plain": [
              "       fixed acidity  volatile acidity  citric acid  residual sugar  \\\n",
              "count    6463.000000       6463.000000  6463.000000     6463.000000   \n",
              "mean        7.217755          0.339589     0.318758        5.443958   \n",
              "std         1.297913          0.164639     0.145252        4.756852   \n",
              "min         3.800000          0.080000     0.000000        0.600000   \n",
              "25%         6.400000          0.230000     0.250000        1.800000   \n",
              "50%         7.000000          0.290000     0.310000        3.000000   \n",
              "75%         7.700000          0.400000     0.390000        8.100000   \n",
              "max        15.900000          1.580000     1.660000       65.800000   \n",
              "\n",
              "         chlorides  free sulfur dioxide  total sulfur dioxide      density  \\\n",
              "count  6463.000000          6463.000000           6463.000000  6463.000000   \n",
              "mean      0.056056            30.516865            115.694492     0.994698   \n",
              "std       0.035076            17.758815             56.526736     0.003001   \n",
              "min       0.009000             1.000000              6.000000     0.987110   \n",
              "25%       0.038000            17.000000             77.000000     0.992330   \n",
              "50%       0.047000            29.000000            118.000000     0.994890   \n",
              "75%       0.065000            41.000000            156.000000     0.997000   \n",
              "max       0.611000           289.000000            440.000000     1.038980   \n",
              "\n",
              "                pH    sulphates      alcohol      quality  \n",
              "count  6463.000000  6463.000000  6463.000000  6463.000000  \n",
              "mean      3.218332     0.531150    10.492825     5.818505  \n",
              "std       0.160650     0.148913     1.193128     0.873286  \n",
              "min       2.720000     0.220000     8.000000     3.000000  \n",
              "25%       3.110000     0.430000     9.500000     5.000000  \n",
              "50%       3.210000     0.510000    10.300000     6.000000  \n",
              "75%       3.320000     0.600000    11.300000     6.000000  \n",
              "max       4.010000     2.000000    14.900000     9.000000  "
            ]
          },
          "execution_count": 11,
          "metadata": {},
          "output_type": "execute_result"
        }
      ],
      "source": [
        "#get overall statistics of dataset\n",
        "wine_data.describe()"
      ]
    },
    {
      "cell_type": "markdown",
      "id": "ad5ee350",
      "metadata": {
        "id": "ad5ee350"
      },
      "source": [
        "## Find Patterns Within Data\n",
        "Plotting quality against other individual components to find patterns"
      ]
    },
    {
      "cell_type": "code",
      "execution_count": null,
      "id": "537ee870",
      "metadata": {
        "id": "537ee870",
        "outputId": "d40d59a7-504b-4a22-dbce-65eb15a4c832"
      },
      "outputs": [
        {
          "data": {
            "text/plain": [
              "Index(['type', 'fixed acidity', 'volatile acidity', 'citric acid',\n",
              "       'residual sugar', 'chlorides', 'free sulfur dioxide',\n",
              "       'total sulfur dioxide', 'density', 'pH', 'sulphates', 'alcohol',\n",
              "       'quality'],\n",
              "      dtype='object')"
            ]
          },
          "execution_count": 12,
          "metadata": {},
          "output_type": "execute_result"
        }
      ],
      "source": [
        "wine_data.columns"
      ]
    },
    {
      "cell_type": "code",
      "execution_count": null,
      "id": "55de59fe",
      "metadata": {
        "id": "55de59fe",
        "outputId": "0e39debb-22fe-4f4a-db02-c4a0d7eb1743"
      },
      "outputs": [
        {
          "data": {
            "image/png": "[encoded data removed]",
            "text/plain": [
              "<Figure size 640x480 with 1 Axes>"
            ]
          },
          "metadata": {},
          "output_type": "display_data"
        }
      ],
      "source": [
        "#quality vs fixed acidity\n",
        "plt.bar(wine_data['quality'], wine_data['fixed acidity'])\n",
        "plt.xlabel('Quality')\n",
        "plt.ylabel('Fixed Acidity')\n",
        "plt.show()"
      ]
    },
    {
      "cell_type": "code",
      "execution_count": null,
      "id": "2bf671ca",
      "metadata": {
        "id": "2bf671ca",
        "outputId": "098ae2ee-b479-4968-e219-7d1a0672f932"
      },
      "outputs": [
        {
          "data": {
            "image/png": "[encoded data removed]",
            "text/plain": [
              "<Figure size 640x480 with 1 Axes>"
            ]
          },
          "metadata": {},
          "output_type": "display_data"
        }
      ],
      "source": [
        "#quality vs volatile acidity\n",
        "plt.bar(wine_data['quality'], wine_data['volatile acidity'])\n",
        "plt.xlabel('Quality')\n",
        "plt.ylabel('Volatile Acidity')\n",
        "plt.show()"
      ]
    },
    {
      "cell_type": "code",
      "execution_count": null,
      "id": "aabb4c76",
      "metadata": {
        "scrolled": true,
        "id": "aabb4c76",
        "outputId": "ffe2d19e-3412-450f-bd3e-0b59b56691ee"
      },
      "outputs": [
        {
          "data": {
            "image/png": "[encoded data removed]",
            "text/plain": [
              "<Figure size 640x480 with 1 Axes>"
            ]
          },
          "metadata": {},
          "output_type": "display_data"
        }
      ],
      "source": [
        "#quality vs citric acid\n",
        "plt.bar(wine_data['quality'], wine_data['citric acid'])\n",
        "plt.xlabel('Quality')\n",
        "plt.ylabel('Citric Acid')\n",
        "plt.show()"
      ]
    },
    {
      "cell_type": "code",
      "execution_count": null,
      "id": "77aaa288",
      "metadata": {
        "id": "77aaa288",
        "outputId": "7d64e249-179d-4c9b-c942-b5fd53bcb576"
      },
      "outputs": [
        {
          "data": {
            "image/png": "[encoded data removed]",
            "text/plain": [
              "<Figure size 640x480 with 1 Axes>"
            ]
          },
          "metadata": {},
          "output_type": "display_data"
        }
      ],
      "source": [
        "#quality vs residual sugar\n",
        "plt.bar(wine_data['quality'], wine_data['residual sugar'])\n",
        "plt.xlabel('Quality')\n",
        "plt.ylabel('Residual Sugar')\n",
        "plt.show()"
      ]
    },
    {
      "cell_type": "code",
      "execution_count": null,
      "id": "8461cc88",
      "metadata": {
        "id": "8461cc88",
        "outputId": "8bacbea1-c89e-42bd-9c04-a3fd6448c654"
      },
      "outputs": [
        {
          "data": {
            "image/png": "[encoded data removed]",
            "text/plain": [
              "<Figure size 640x480 with 1 Axes>"
            ]
          },
          "metadata": {},
          "output_type": "display_data"
        }
      ],
      "source": [
        "#quality vs chlorides\n",
        "plt.bar(wine_data['quality'], wine_data['chlorides'])\n",
        "plt.xlabel('Quality')\n",
        "plt.ylabel('Chlorides')\n",
        "plt.show()"
      ]
    },
    {
      "cell_type": "code",
      "execution_count": null,
      "id": "d146746f",
      "metadata": {
        "id": "d146746f",
        "outputId": "3bc0a192-bc0d-49cb-b8d9-9810098f6b96"
      },
      "outputs": [
        {
          "data": {
            "image/png": "[encoded data removed]",
            "text/plain": [
              "<Figure size 640x480 with 1 Axes>"
            ]
          },
          "metadata": {},
          "output_type": "display_data"
        }
      ],
      "source": [
        "#quality vs free sulfur dioxide\n",
        "plt.bar(wine_data['quality'], wine_data['free sulfur dioxide'])\n",
        "plt.xlabel('Quality')\n",
        "plt.ylabel('Free Sulfur Dioxide')\n",
        "plt.show()"
      ]
    },
    {
      "cell_type": "code",
      "execution_count": null,
      "id": "d0af8d89",
      "metadata": {
        "id": "d0af8d89",
        "outputId": "66814755-0c99-4f40-d3dc-1bc5223c89d5"
      },
      "outputs": [
        {
          "data": {
            "image/png": "[encoded data removed]",
            "text/plain": [
              "<Figure size 640x480 with 1 Axes>"
            ]
          },
          "metadata": {},
          "output_type": "display_data"
        }
      ],
      "source": [
        "#quality vs total sulfur dioxide\n",
        "plt.bar(wine_data['quality'], wine_data['total sulfur dioxide'])\n",
        "plt.xlabel('Quality')\n",
        "plt.ylabel('Total Sulfur Dioxide')\n",
        "plt.show()"
      ]
    },
    {
      "cell_type": "code",
      "execution_count": null,
      "id": "80d936a7",
      "metadata": {
        "id": "80d936a7",
        "outputId": "9e4a501f-60cd-4001-cb06-347d30ed1b73"
      },
      "outputs": [
        {
          "data": {
            "image/png": "[encoded data removed]",
            "text/plain": [
              "<Figure size 640x480 with 1 Axes>"
            ]
          },
          "metadata": {},
          "output_type": "display_data"
        }
      ],
      "source": [
        "#quality vs density\n",
        "plt.bar(wine_data['quality'], wine_data['density'])\n",
        "plt.xlabel('Quality')\n",
        "plt.ylabel('Density')\n",
        "plt.show()"
      ]
    },
    {
      "cell_type": "code",
      "execution_count": null,
      "id": "833202e0",
      "metadata": {
        "id": "833202e0",
        "outputId": "be6e8560-aab3-4644-93de-50f7d15f665e"
      },
      "outputs": [
        {
          "data": {
            "image/png": "[encoded data removed]",
            "text/plain": [
              "<Figure size 640x480 with 1 Axes>"
            ]
          },
          "metadata": {},
          "output_type": "display_data"
        }
      ],
      "source": [
        "#quality vs pH\n",
        "plt.bar(wine_data['quality'], wine_data['pH'])\n",
        "plt.xlabel('Quality')\n",
        "plt.ylabel('pH')\n",
        "plt.show()"
      ]
    },
    {
      "cell_type": "code",
      "execution_count": null,
      "id": "eb2ee3fb",
      "metadata": {
        "id": "eb2ee3fb",
        "outputId": "dfcbddca-770f-4ab0-d6be-9159af7fe49c"
      },
      "outputs": [
        {
          "data": {
            "image/png": "[encoded data removed]",
            "text/plain": [
              "<Figure size 640x480 with 1 Axes>"
            ]
          },
          "metadata": {},
          "output_type": "display_data"
        }
      ],
      "source": [
        "#quality vs sulphates\n",
        "plt.bar(wine_data['quality'], wine_data['sulphates'])\n",
        "plt.xlabel('Quality')\n",
        "plt.ylabel('Sulphates')\n",
        "plt.show()"
      ]
    },
    {
      "cell_type": "code",
      "execution_count": null,
      "id": "379b93f3",
      "metadata": {
        "id": "379b93f3",
        "outputId": "68c00007-0815-4e71-ecca-ff5f67aebcaf"
      },
      "outputs": [
        {
          "data": {
            "image/png": "[encoded data removed]",
            "text/plain": [
              "<Figure size 640x480 with 1 Axes>"
            ]
          },
          "metadata": {},
          "output_type": "display_data"
        }
      ],
      "source": [
        "#quality vs alcohol\n",
        "plt.bar(wine_data['quality'], wine_data['alcohol'])\n",
        "plt.xlabel('Quality')\n",
        "plt.ylabel('Alcohol')\n",
        "plt.show()"
      ]
    },
    {
      "cell_type": "markdown",
      "id": "a1202c23",
      "metadata": {
        "id": "a1202c23"
      },
      "source": [
        "## Correlation Matrix"
      ]
    },
    {
      "cell_type": "code",
      "execution_count": null,
      "id": "da7622f1",
      "metadata": {
        "id": "da7622f1",
        "outputId": "b8cfb2c7-362d-4f48-e127-d0ee5c7529d2"
      },
      "outputs": [
        {
          "data": {
            "text/plain": [
              "<AxesSubplot: >"
            ]
          },
          "execution_count": 25,
          "metadata": {},
          "output_type": "execute_result"
        },
        {
          "data": {
            "image/png": "[encoded data removed]",
            "text/plain": [
              "<Figure size 1000x500 with 2 Axes>"
            ]
          },
          "metadata": {},
          "output_type": "display_data"
        }
      ],
      "source": [
        "#display correlation between quality and other variables\n",
        "plt.figure(figsize = (10,5))\n",
        "sns.heatmap(wine_data.corr(numeric_only = True), annot = True, fmt = '0.1f')"
      ]
    },
    {
      "cell_type": "markdown",
      "id": "31e8c2fa",
      "metadata": {
        "id": "31e8c2fa"
      },
      "source": [
        "## Binarization Of Target Variable (Quality)"
      ]
    },
    {
      "cell_type": "code",
      "execution_count": null,
      "id": "82df46b7",
      "metadata": {
        "id": "82df46b7",
        "outputId": "f09756af-8aed-4ace-f8d8-c220ee4b8f41"
      },
      "outputs": [
        {
          "data": {
            "text/plain": [
              "array([6, 5, 7, 8, 4, 3, 9])"
            ]
          },
          "execution_count": 26,
          "metadata": {},
          "output_type": "execute_result"
        }
      ],
      "source": [
        "#finding unique values\n",
        "wine_data = pd.read_csv(\"winequalityN.csv\")\n",
        "wine_data.dropna(inplace = True)\n",
        "wine_data['quality'].unique()"
      ]
    },
    {
      "cell_type": "code",
      "execution_count": null,
      "id": "2575f21a",
      "metadata": {
        "id": "2575f21a"
      },
      "outputs": [],
      "source": [
        "#setting quality variable to 0 or 1 based on conditions\n",
        "#1 means good quality, 0 means bad quality\n",
        "wine_data['quality'] = [1 if x>=7 else 0 for x in wine_data['quality']]"
      ]
    },
    {
      "cell_type": "code",
      "execution_count": null,
      "id": "b0172918",
      "metadata": {
        "id": "b0172918",
        "outputId": "f706eddc-2703-4a53-a646-1cba2a3beba1"
      },
      "outputs": [
        {
          "data": {
            "text/plain": [
              "array([0, 1])"
            ]
          },
          "execution_count": 28,
          "metadata": {},
          "output_type": "execute_result"
        }
      ],
      "source": [
        "#verify binarization\n",
        "wine_data['quality'].unique()"
      ]
    },
    {
      "cell_type": "code",
      "execution_count": null,
      "id": "0554d934",
      "metadata": {
        "id": "0554d934",
        "outputId": "a859f342-1e99-4540-d280-2c72825b5c1b"
      },
      "outputs": [
        {
          "data": {
            "text/plain": [
              "0    5192\n",
              "1    1271\n",
              "Name: quality, dtype: int64"
            ]
          },
          "execution_count": 29,
          "metadata": {},
          "output_type": "execute_result"
        }
      ],
      "source": [
        "#checking balance of dataset\n",
        "wine_data['quality'].value_counts()"
      ]
    },
    {
      "cell_type": "code",
      "execution_count": null,
      "id": "4c7a151c",
      "metadata": {
        "id": "4c7a151c",
        "outputId": "391addbf-7a70-40f1-e378-146a6cb948af"
      },
      "outputs": [
        {
          "data": {
            "text/plain": [
              "<AxesSubplot: >"
            ]
          },
          "execution_count": 30,
          "metadata": {},
          "output_type": "execute_result"
        },
        {
          "data": {
            "image/png": "[encoded data removed]",
            "text/plain": [
              "<Figure size 640x480 with 1 Axes>"
            ]
          },
          "metadata": {},
          "output_type": "display_data"
        }
      ],
      "source": [
        "#visualizer for imbalanced dataset\n",
        "sns.barplot(x = wine_data['quality'].value_counts().index, y = wine_data['quality'].value_counts().values)"
      ]
    },
    {
      "cell_type": "markdown",
      "id": "fa0e9975",
      "metadata": {
        "id": "fa0e9975"
      },
      "source": [
        "## Splitting Data"
      ]
    },
    {
      "cell_type": "code",
      "execution_count": null,
      "id": "e8587a91",
      "metadata": {
        "id": "e8587a91"
      },
      "outputs": [],
      "source": [
        "#split data into x and y\n",
        "wine_data.replace({'white':1,'red':0}, inplace = True)\n",
        "X = wine_data.drop('quality', axis = 1)\n",
        "y = wine_data['quality']"
      ]
    },
    {
      "cell_type": "code",
      "execution_count": null,
      "id": "24e4a1b7",
      "metadata": {
        "id": "24e4a1b7",
        "outputId": "927ec15c-00f2-4a5b-a0f1-d0a24d181e47"
      },
      "outputs": [
        {
          "data": {
            "text/html": [
              "<div>\n",
              "<style scoped>\n",
              "    .dataframe tbody tr th:only-of-type {\n",
              "        vertical-align: middle;\n",
              "    }\n",
              "\n",
              "    .dataframe tbody tr th {\n",
              "        vertical-align: top;\n",
              "    }\n",
              "\n",
              "    .dataframe thead th {\n",
              "        text-align: right;\n",
              "    }\n",
              "</style>\n",
              "<table border=\"1\" class=\"dataframe\">\n",
              "  <thead>\n",
              "    <tr style=\"text-align: right;\">\n",
              "      <th></th>\n",
              "      <th>type</th>\n",
              "      <th>fixed acidity</th>\n",
              "      <th>volatile acidity</th>\n",
              "      <th>citric acid</th>\n",
              "      <th>residual sugar</th>\n",
              "      <th>chlorides</th>\n",
              "      <th>free sulfur dioxide</th>\n",
              "      <th>total sulfur dioxide</th>\n",
              "      <th>density</th>\n",
              "      <th>pH</th>\n",
              "      <th>sulphates</th>\n",
              "      <th>alcohol</th>\n",
              "    </tr>\n",
              "  </thead>\n",
              "  <tbody>\n",
              "    <tr>\n",
              "      <th>0</th>\n",
              "      <td>1</td>\n",
              "      <td>7.0</td>\n",
              "      <td>0.270</td>\n",
              "      <td>0.36</td>\n",
              "      <td>20.7</td>\n",
              "      <td>0.045</td>\n",
              "      <td>45.0</td>\n",
              "      <td>170.0</td>\n",
              "      <td>1.00100</td>\n",
              "      <td>3.00</td>\n",
              "      <td>0.45</td>\n",
              "      <td>8.8</td>\n",
              "    </tr>\n",
              "    <tr>\n",
              "      <th>1</th>\n",
              "      <td>1</td>\n",
              "      <td>6.3</td>\n",
              "      <td>0.300</td>\n",
              "      <td>0.34</td>\n",
              "      <td>1.6</td>\n",
              "      <td>0.049</td>\n",
              "      <td>14.0</td>\n",
              "      <td>132.0</td>\n",
              "      <td>0.99400</td>\n",
              "      <td>3.30</td>\n",
              "      <td>0.49</td>\n",
              "      <td>9.5</td>\n",
              "    </tr>\n",
              "    <tr>\n",
              "      <th>2</th>\n",
              "      <td>1</td>\n",
              "      <td>8.1</td>\n",
              "      <td>0.280</td>\n",
              "      <td>0.40</td>\n",
              "      <td>6.9</td>\n",
              "      <td>0.050</td>\n",
              "      <td>30.0</td>\n",
              "      <td>97.0</td>\n",
              "      <td>0.99510</td>\n",
              "      <td>3.26</td>\n",
              "      <td>0.44</td>\n",
              "      <td>10.1</td>\n",
              "    </tr>\n",
              "    <tr>\n",
              "      <th>3</th>\n",
              "      <td>1</td>\n",
              "      <td>7.2</td>\n",
              "      <td>0.230</td>\n",
              "      <td>0.32</td>\n",
              "      <td>8.5</td>\n",
              "      <td>0.058</td>\n",
              "      <td>47.0</td>\n",
              "      <td>186.0</td>\n",
              "      <td>0.99560</td>\n",
              "      <td>3.19</td>\n",
              "      <td>0.40</td>\n",
              "      <td>9.9</td>\n",
              "    </tr>\n",
              "    <tr>\n",
              "      <th>4</th>\n",
              "      <td>1</td>\n",
              "      <td>7.2</td>\n",
              "      <td>0.230</td>\n",
              "      <td>0.32</td>\n",
              "      <td>8.5</td>\n",
              "      <td>0.058</td>\n",
              "      <td>47.0</td>\n",
              "      <td>186.0</td>\n",
              "      <td>0.99560</td>\n",
              "      <td>3.19</td>\n",
              "      <td>0.40</td>\n",
              "      <td>9.9</td>\n",
              "    </tr>\n",
              "    <tr>\n",
              "      <th>...</th>\n",
              "      <td>...</td>\n",
              "      <td>...</td>\n",
              "      <td>...</td>\n",
              "      <td>...</td>\n",
              "      <td>...</td>\n",
              "      <td>...</td>\n",
              "      <td>...</td>\n",
              "      <td>...</td>\n",
              "      <td>...</td>\n",
              "      <td>...</td>\n",
              "      <td>...</td>\n",
              "      <td>...</td>\n",
              "    </tr>\n",
              "    <tr>\n",
              "      <th>6491</th>\n",
              "      <td>0</td>\n",
              "      <td>6.8</td>\n",
              "      <td>0.620</td>\n",
              "      <td>0.08</td>\n",
              "      <td>1.9</td>\n",
              "      <td>0.068</td>\n",
              "      <td>28.0</td>\n",
              "      <td>38.0</td>\n",
              "      <td>0.99651</td>\n",
              "      <td>3.42</td>\n",
              "      <td>0.82</td>\n",
              "      <td>9.5</td>\n",
              "    </tr>\n",
              "    <tr>\n",
              "      <th>6492</th>\n",
              "      <td>0</td>\n",
              "      <td>6.2</td>\n",
              "      <td>0.600</td>\n",
              "      <td>0.08</td>\n",
              "      <td>2.0</td>\n",
              "      <td>0.090</td>\n",
              "      <td>32.0</td>\n",
              "      <td>44.0</td>\n",
              "      <td>0.99490</td>\n",
              "      <td>3.45</td>\n",
              "      <td>0.58</td>\n",
              "      <td>10.5</td>\n",
              "    </tr>\n",
              "    <tr>\n",
              "      <th>6494</th>\n",
              "      <td>0</td>\n",
              "      <td>6.3</td>\n",
              "      <td>0.510</td>\n",
              "      <td>0.13</td>\n",
              "      <td>2.3</td>\n",
              "      <td>0.076</td>\n",
              "      <td>29.0</td>\n",
              "      <td>40.0</td>\n",
              "      <td>0.99574</td>\n",
              "      <td>3.42</td>\n",
              "      <td>0.75</td>\n",
              "      <td>11.0</td>\n",
              "    </tr>\n",
              "    <tr>\n",
              "      <th>6495</th>\n",
              "      <td>0</td>\n",
              "      <td>5.9</td>\n",
              "      <td>0.645</td>\n",
              "      <td>0.12</td>\n",
              "      <td>2.0</td>\n",
              "      <td>0.075</td>\n",
              "      <td>32.0</td>\n",
              "      <td>44.0</td>\n",
              "      <td>0.99547</td>\n",
              "      <td>3.57</td>\n",
              "      <td>0.71</td>\n",
              "      <td>10.2</td>\n",
              "    </tr>\n",
              "    <tr>\n",
              "      <th>6496</th>\n",
              "      <td>0</td>\n",
              "      <td>6.0</td>\n",
              "      <td>0.310</td>\n",
              "      <td>0.47</td>\n",
              "      <td>3.6</td>\n",
              "      <td>0.067</td>\n",
              "      <td>18.0</td>\n",
              "      <td>42.0</td>\n",
              "      <td>0.99549</td>\n",
              "      <td>3.39</td>\n",
              "      <td>0.66</td>\n",
              "      <td>11.0</td>\n",
              "    </tr>\n",
              "  </tbody>\n",
              "</table>\n",
              "<p>6463 rows × 12 columns</p>\n",
              "</div>"
            ],
            "text/plain": [
              "      type  fixed acidity  volatile acidity  citric acid  residual sugar  \\\n",
              "0        1            7.0             0.270         0.36            20.7   \n",
              "1        1            6.3             0.300         0.34             1.6   \n",
              "2        1            8.1             0.280         0.40             6.9   \n",
              "3        1            7.2             0.230         0.32             8.5   \n",
              "4        1            7.2             0.230         0.32             8.5   \n",
              "...    ...            ...               ...          ...             ...   \n",
              "6491     0            6.8             0.620         0.08             1.9   \n",
              "6492     0            6.2             0.600         0.08             2.0   \n",
              "6494     0            6.3             0.510         0.13             2.3   \n",
              "6495     0            5.9             0.645         0.12             2.0   \n",
              "6496     0            6.0             0.310         0.47             3.6   \n",
              "\n",
              "      chlorides  free sulfur dioxide  total sulfur dioxide  density    pH  \\\n",
              "0         0.045                 45.0                 170.0  1.00100  3.00   \n",
              "1         0.049                 14.0                 132.0  0.99400  3.30   \n",
              "2         0.050                 30.0                  97.0  0.99510  3.26   \n",
              "3         0.058                 47.0                 186.0  0.99560  3.19   \n",
              "4         0.058                 47.0                 186.0  0.99560  3.19   \n",
              "...         ...                  ...                   ...      ...   ...   \n",
              "6491      0.068                 28.0                  38.0  0.99651  3.42   \n",
              "6492      0.090                 32.0                  44.0  0.99490  3.45   \n",
              "6494      0.076                 29.0                  40.0  0.99574  3.42   \n",
              "6495      0.075                 32.0                  44.0  0.99547  3.57   \n",
              "6496      0.067                 18.0                  42.0  0.99549  3.39   \n",
              "\n",
              "      sulphates  alcohol  \n",
              "0          0.45      8.8  \n",
              "1          0.49      9.5  \n",
              "2          0.44     10.1  \n",
              "3          0.40      9.9  \n",
              "4          0.40      9.9  \n",
              "...         ...      ...  \n",
              "6491       0.82      9.5  \n",
              "6492       0.58     10.5  \n",
              "6494       0.75     11.0  \n",
              "6495       0.71     10.2  \n",
              "6496       0.66     11.0  \n",
              "\n",
              "[6463 rows x 12 columns]"
            ]
          },
          "execution_count": 32,
          "metadata": {},
          "output_type": "execute_result"
        }
      ],
      "source": [
        "X"
      ]
    },
    {
      "cell_type": "code",
      "execution_count": null,
      "id": "72e667f8",
      "metadata": {
        "id": "72e667f8",
        "outputId": "3f7deb94-5ac0-496e-9810-087c012b33a1"
      },
      "outputs": [
        {
          "data": {
            "text/plain": [
              "0       0\n",
              "1       0\n",
              "2       0\n",
              "3       0\n",
              "4       0\n",
              "       ..\n",
              "6491    0\n",
              "6492    0\n",
              "6494    0\n",
              "6495    0\n",
              "6496    0\n",
              "Name: quality, Length: 6463, dtype: int64"
            ]
          },
          "execution_count": 33,
          "metadata": {},
          "output_type": "execute_result"
        }
      ],
      "source": [
        "y"
      ]
    },
    {
      "cell_type": "markdown",
      "id": "ac71d26f",
      "metadata": {
        "id": "ac71d26f"
      },
      "source": [
        "## Handling The Imbalanced Dataset"
      ]
    },
    {
      "cell_type": "code",
      "execution_count": null,
      "id": "7b1ef40f",
      "metadata": {
        "id": "7b1ef40f",
        "outputId": "df8e391e-2a6e-45e3-a0c7-215c81ed53da"
      },
      "outputs": [
        {
          "data": {
            "text/plain": [
              "0    5192\n",
              "1    5192\n",
              "Name: quality, dtype: int64"
            ]
          },
          "execution_count": 34,
          "metadata": {},
          "output_type": "execute_result"
        }
      ],
      "source": [
        "#use of oversampling\n",
        "\n",
        "X_res, y_res = SMOTE().fit_resample(X,y)\n",
        "y_res.value_counts()"
      ]
    },
    {
      "cell_type": "code",
      "execution_count": null,
      "id": "d2272f73",
      "metadata": {
        "id": "d2272f73"
      },
      "outputs": [],
      "source": [
        "#split data into training and testing datasets\n",
        "np.random.seed(42)\n",
        "\n",
        "X_train, X_test, y_train, y_test = train_test_split(X_res,y_res, test_size = 0.2)"
      ]
    },
    {
      "cell_type": "code",
      "execution_count": null,
      "id": "8ccf7981",
      "metadata": {
        "id": "8ccf7981",
        "outputId": "eaac1902-1b33-4099-9698-dd13d4761234"
      },
      "outputs": [
        {
          "data": {
            "text/html": [
              "<div>\n",
              "<style scoped>\n",
              "    .dataframe tbody tr th:only-of-type {\n",
              "        vertical-align: middle;\n",
              "    }\n",
              "\n",
              "    .dataframe tbody tr th {\n",
              "        vertical-align: top;\n",
              "    }\n",
              "\n",
              "    .dataframe thead th {\n",
              "        text-align: right;\n",
              "    }\n",
              "</style>\n",
              "<table border=\"1\" class=\"dataframe\">\n",
              "  <thead>\n",
              "    <tr style=\"text-align: right;\">\n",
              "      <th></th>\n",
              "      <th>type</th>\n",
              "      <th>fixed acidity</th>\n",
              "      <th>volatile acidity</th>\n",
              "      <th>citric acid</th>\n",
              "      <th>residual sugar</th>\n",
              "      <th>chlorides</th>\n",
              "      <th>free sulfur dioxide</th>\n",
              "      <th>total sulfur dioxide</th>\n",
              "      <th>density</th>\n",
              "      <th>pH</th>\n",
              "      <th>sulphates</th>\n",
              "      <th>alcohol</th>\n",
              "    </tr>\n",
              "  </thead>\n",
              "  <tbody>\n",
              "    <tr>\n",
              "      <th>2310</th>\n",
              "      <td>1</td>\n",
              "      <td>7.500000</td>\n",
              "      <td>0.230000</td>\n",
              "      <td>0.350000</td>\n",
              "      <td>17.800000</td>\n",
              "      <td>0.058000</td>\n",
              "      <td>128.000000</td>\n",
              "      <td>212.000000</td>\n",
              "      <td>1.002410</td>\n",
              "      <td>3.440000</td>\n",
              "      <td>0.430000</td>\n",
              "      <td>8.900000</td>\n",
              "    </tr>\n",
              "    <tr>\n",
              "      <th>5620</th>\n",
              "      <td>0</td>\n",
              "      <td>8.300000</td>\n",
              "      <td>0.650000</td>\n",
              "      <td>0.100000</td>\n",
              "      <td>2.900000</td>\n",
              "      <td>0.089000</td>\n",
              "      <td>17.000000</td>\n",
              "      <td>40.000000</td>\n",
              "      <td>0.998030</td>\n",
              "      <td>3.290000</td>\n",
              "      <td>0.550000</td>\n",
              "      <td>9.500000</td>\n",
              "    </tr>\n",
              "    <tr>\n",
              "      <th>9674</th>\n",
              "      <td>1</td>\n",
              "      <td>6.700000</td>\n",
              "      <td>0.480000</td>\n",
              "      <td>0.320000</td>\n",
              "      <td>1.400000</td>\n",
              "      <td>0.021000</td>\n",
              "      <td>22.000000</td>\n",
              "      <td>121.000000</td>\n",
              "      <td>0.988900</td>\n",
              "      <td>3.150000</td>\n",
              "      <td>0.530000</td>\n",
              "      <td>12.700000</td>\n",
              "    </tr>\n",
              "    <tr>\n",
              "      <th>6547</th>\n",
              "      <td>1</td>\n",
              "      <td>7.778358</td>\n",
              "      <td>0.385502</td>\n",
              "      <td>0.293833</td>\n",
              "      <td>3.793351</td>\n",
              "      <td>0.031533</td>\n",
              "      <td>30.616689</td>\n",
              "      <td>100.766623</td>\n",
              "      <td>0.991138</td>\n",
              "      <td>3.030665</td>\n",
              "      <td>0.316167</td>\n",
              "      <td>12.608344</td>\n",
              "    </tr>\n",
              "    <tr>\n",
              "      <th>8240</th>\n",
              "      <td>1</td>\n",
              "      <td>6.754811</td>\n",
              "      <td>0.239707</td>\n",
              "      <td>0.306443</td>\n",
              "      <td>5.430949</td>\n",
              "      <td>0.038155</td>\n",
              "      <td>37.000000</td>\n",
              "      <td>107.000000</td>\n",
              "      <td>0.992538</td>\n",
              "      <td>3.205858</td>\n",
              "      <td>0.525858</td>\n",
              "      <td>10.971131</td>\n",
              "    </tr>\n",
              "    <tr>\n",
              "      <th>...</th>\n",
              "      <td>...</td>\n",
              "      <td>...</td>\n",
              "      <td>...</td>\n",
              "      <td>...</td>\n",
              "      <td>...</td>\n",
              "      <td>...</td>\n",
              "      <td>...</td>\n",
              "      <td>...</td>\n",
              "      <td>...</td>\n",
              "      <td>...</td>\n",
              "      <td>...</td>\n",
              "      <td>...</td>\n",
              "    </tr>\n",
              "    <tr>\n",
              "      <th>5734</th>\n",
              "      <td>0</td>\n",
              "      <td>7.200000</td>\n",
              "      <td>0.620000</td>\n",
              "      <td>0.060000</td>\n",
              "      <td>2.700000</td>\n",
              "      <td>0.077000</td>\n",
              "      <td>15.000000</td>\n",
              "      <td>85.000000</td>\n",
              "      <td>0.997460</td>\n",
              "      <td>3.510000</td>\n",
              "      <td>0.540000</td>\n",
              "      <td>9.500000</td>\n",
              "    </tr>\n",
              "    <tr>\n",
              "      <th>5191</th>\n",
              "      <td>0</td>\n",
              "      <td>9.300000</td>\n",
              "      <td>0.610000</td>\n",
              "      <td>0.260000</td>\n",
              "      <td>3.400000</td>\n",
              "      <td>0.090000</td>\n",
              "      <td>25.000000</td>\n",
              "      <td>87.000000</td>\n",
              "      <td>0.999750</td>\n",
              "      <td>3.240000</td>\n",
              "      <td>0.620000</td>\n",
              "      <td>9.700000</td>\n",
              "    </tr>\n",
              "    <tr>\n",
              "      <th>5390</th>\n",
              "      <td>0</td>\n",
              "      <td>9.800000</td>\n",
              "      <td>0.250000</td>\n",
              "      <td>0.490000</td>\n",
              "      <td>2.700000</td>\n",
              "      <td>0.088000</td>\n",
              "      <td>15.000000</td>\n",
              "      <td>33.000000</td>\n",
              "      <td>0.998200</td>\n",
              "      <td>3.420000</td>\n",
              "      <td>0.900000</td>\n",
              "      <td>10.000000</td>\n",
              "    </tr>\n",
              "    <tr>\n",
              "      <th>860</th>\n",
              "      <td>1</td>\n",
              "      <td>8.800000</td>\n",
              "      <td>0.360000</td>\n",
              "      <td>0.440000</td>\n",
              "      <td>1.900000</td>\n",
              "      <td>0.040000</td>\n",
              "      <td>9.000000</td>\n",
              "      <td>121.000000</td>\n",
              "      <td>0.995300</td>\n",
              "      <td>3.190000</td>\n",
              "      <td>0.480000</td>\n",
              "      <td>9.900000</td>\n",
              "    </tr>\n",
              "    <tr>\n",
              "      <th>7270</th>\n",
              "      <td>1</td>\n",
              "      <td>7.300000</td>\n",
              "      <td>0.210000</td>\n",
              "      <td>0.290000</td>\n",
              "      <td>1.600000</td>\n",
              "      <td>0.034000</td>\n",
              "      <td>29.000000</td>\n",
              "      <td>118.000000</td>\n",
              "      <td>0.991700</td>\n",
              "      <td>3.300000</td>\n",
              "      <td>0.500000</td>\n",
              "      <td>11.000000</td>\n",
              "    </tr>\n",
              "  </tbody>\n",
              "</table>\n",
              "<p>8307 rows × 12 columns</p>\n",
              "</div>"
            ],
            "text/plain": [
              "      type  fixed acidity  volatile acidity  citric acid  residual sugar  \\\n",
              "2310     1       7.500000          0.230000     0.350000       17.800000   \n",
              "5620     0       8.300000          0.650000     0.100000        2.900000   \n",
              "9674     1       6.700000          0.480000     0.320000        1.400000   \n",
              "6547     1       7.778358          0.385502     0.293833        3.793351   \n",
              "8240     1       6.754811          0.239707     0.306443        5.430949   \n",
              "...    ...            ...               ...          ...             ...   \n",
              "5734     0       7.200000          0.620000     0.060000        2.700000   \n",
              "5191     0       9.300000          0.610000     0.260000        3.400000   \n",
              "5390     0       9.800000          0.250000     0.490000        2.700000   \n",
              "860      1       8.800000          0.360000     0.440000        1.900000   \n",
              "7270     1       7.300000          0.210000     0.290000        1.600000   \n",
              "\n",
              "      chlorides  free sulfur dioxide  total sulfur dioxide   density  \\\n",
              "2310   0.058000           128.000000            212.000000  1.002410   \n",
              "5620   0.089000            17.000000             40.000000  0.998030   \n",
              "9674   0.021000            22.000000            121.000000  0.988900   \n",
              "6547   0.031533            30.616689            100.766623  0.991138   \n",
              "8240   0.038155            37.000000            107.000000  0.992538   \n",
              "...         ...                  ...                   ...       ...   \n",
              "5734   0.077000            15.000000             85.000000  0.997460   \n",
              "5191   0.090000            25.000000             87.000000  0.999750   \n",
              "5390   0.088000            15.000000             33.000000  0.998200   \n",
              "860    0.040000             9.000000            121.000000  0.995300   \n",
              "7270   0.034000            29.000000            118.000000  0.991700   \n",
              "\n",
              "            pH  sulphates    alcohol  \n",
              "2310  3.440000   0.430000   8.900000  \n",
              "5620  3.290000   0.550000   9.500000  \n",
              "9674  3.150000   0.530000  12.700000  \n",
              "6547  3.030665   0.316167  12.608344  \n",
              "8240  3.205858   0.525858  10.971131  \n",
              "...        ...        ...        ...  \n",
              "5734  3.510000   0.540000   9.500000  \n",
              "5191  3.240000   0.620000   9.700000  \n",
              "5390  3.420000   0.900000  10.000000  \n",
              "860   3.190000   0.480000   9.900000  \n",
              "7270  3.300000   0.500000  11.000000  \n",
              "\n",
              "[8307 rows x 12 columns]"
            ]
          },
          "execution_count": 36,
          "metadata": {},
          "output_type": "execute_result"
        }
      ],
      "source": [
        "#view x train dataset\n",
        "X_train"
      ]
    },
    {
      "cell_type": "code",
      "execution_count": null,
      "id": "b1412027",
      "metadata": {
        "id": "b1412027",
        "outputId": "3451744d-881d-43f7-ba01-02974f92ddfa"
      },
      "outputs": [
        {
          "data": {
            "text/plain": [
              "2310    0\n",
              "5620    0\n",
              "9674    1\n",
              "6547    1\n",
              "8240    1\n",
              "       ..\n",
              "5734    0\n",
              "5191    0\n",
              "5390    0\n",
              "860     0\n",
              "7270    1\n",
              "Name: quality, Length: 8307, dtype: int64"
            ]
          },
          "execution_count": 37,
          "metadata": {},
          "output_type": "execute_result"
        }
      ],
      "source": [
        "#view y train dataset\n",
        "y_train"
      ]
    },
    {
      "cell_type": "markdown",
      "id": "ebc7fb5e",
      "metadata": {
        "id": "ebc7fb5e"
      },
      "source": [
        "## Feature Scaling"
      ]
    },
    {
      "cell_type": "code",
      "execution_count": null,
      "id": "a19677e0",
      "metadata": {
        "id": "a19677e0"
      },
      "outputs": [],
      "source": [
        "#use of feature scaling to put features into same scale\n",
        "st = StandardScaler()\n",
        "X_train = st.fit_transform(X_train)\n",
        "X_test = st.transform(X_test)"
      ]
    },
    {
      "cell_type": "code",
      "execution_count": null,
      "id": "04aa768e",
      "metadata": {
        "id": "04aa768e"
      },
      "outputs": [],
      "source": []
    },
    {
      "cell_type": "markdown",
      "id": "60ae4656",
      "metadata": {
        "id": "60ae4656"
      },
      "source": [
        "## Choosing Models\n",
        "Testing the accuracy, precision, recall, and f1 scores of the Logistic Regression, K Neighbors, and Random Forest based models"
      ]
    },
    {
      "cell_type": "markdown",
      "id": "4aa59895",
      "metadata": {
        "id": "4aa59895"
      },
      "source": [
        "## Logistic Regression"
      ]
    },
    {
      "cell_type": "code",
      "execution_count": null,
      "id": "a9fa6615",
      "metadata": {
        "id": "a9fa6615",
        "outputId": "bc499330-338f-4d2e-a810-5f5b3b664938"
      },
      "outputs": [
        {
          "data": {
            "text/html": [
              "<style>#sk-container-id-1 {color: black;background-color: white;}#sk-container-id-1 pre{padding: 0;}#sk-container-id-1 div.sk-toggleable {background-color: white;}#sk-container-id-1 label.sk-toggleable__label {cursor: pointer;display: block;width: 100%;margin-bottom: 0;padding: 0.3em;box-sizing: border-box;text-align: center;}#sk-container-id-1 label.sk-toggleable__label-arrow:before {content: \"▸\";float: left;margin-right: 0.25em;color: #696969;}#sk-container-id-1 label.sk-toggleable__label-arrow:hover:before {color: black;}#sk-container-id-1 div.sk-estimator:hover label.sk-toggleable__label-arrow:before {color: black;}#sk-container-id-1 div.sk-toggleable__content {max-height: 0;max-width: 0;overflow: hidden;text-align: left;background-color: #f0f8ff;}#sk-container-id-1 div.sk-toggleable__content pre {margin: 0.2em;color: black;border-radius: 0.25em;background-color: #f0f8ff;}#sk-container-id-1 input.sk-toggleable__control:checked~div.sk-toggleable__content {max-height: 200px;max-width: 100%;overflow: auto;}#sk-container-id-1 input.sk-toggleable__control:checked~label.sk-toggleable__label-arrow:before {content: \"▾\";}#sk-container-id-1 div.sk-estimator input.sk-toggleable__control:checked~label.sk-toggleable__label {background-color: #d4ebff;}#sk-container-id-1 div.sk-label input.sk-toggleable__control:checked~label.sk-toggleable__label {background-color: #d4ebff;}#sk-container-id-1 input.sk-hidden--visually {border: 0;clip: rect(1px 1px 1px 1px);clip: rect(1px, 1px, 1px, 1px);height: 1px;margin: -1px;overflow: hidden;padding: 0;position: absolute;width: 1px;}#sk-container-id-1 div.sk-estimator {font-family: monospace;background-color: #f0f8ff;border: 1px dotted black;border-radius: 0.25em;box-sizing: border-box;margin-bottom: 0.5em;}#sk-container-id-1 div.sk-estimator:hover {background-color: #d4ebff;}#sk-container-id-1 div.sk-parallel-item::after {content: \"\";width: 100%;border-bottom: 1px solid gray;flex-grow: 1;}#sk-container-id-1 div.sk-label:hover label.sk-toggleable__label {background-color: #d4ebff;}#sk-container-id-1 div.sk-serial::before {content: \"\";position: absolute;border-left: 1px solid gray;box-sizing: border-box;top: 0;bottom: 0;left: 50%;z-index: 0;}#sk-container-id-1 div.sk-serial {display: flex;flex-direction: column;align-items: center;background-color: white;padding-right: 0.2em;padding-left: 0.2em;position: relative;}#sk-container-id-1 div.sk-item {position: relative;z-index: 1;}#sk-container-id-1 div.sk-parallel {display: flex;align-items: stretch;justify-content: center;background-color: white;position: relative;}#sk-container-id-1 div.sk-item::before, #sk-container-id-1 div.sk-parallel-item::before {content: \"\";position: absolute;border-left: 1px solid gray;box-sizing: border-box;top: 0;bottom: 0;left: 50%;z-index: -1;}#sk-container-id-1 div.sk-parallel-item {display: flex;flex-direction: column;z-index: 1;position: relative;background-color: white;}#sk-container-id-1 div.sk-parallel-item:first-child::after {align-self: flex-end;width: 50%;}#sk-container-id-1 div.sk-parallel-item:last-child::after {align-self: flex-start;width: 50%;}#sk-container-id-1 div.sk-parallel-item:only-child::after {width: 0;}#sk-container-id-1 div.sk-dashed-wrapped {border: 1px dashed gray;margin: 0 0.4em 0.5em 0.4em;box-sizing: border-box;padding-bottom: 0.4em;background-color: white;}#sk-container-id-1 div.sk-label label {font-family: monospace;font-weight: bold;display: inline-block;line-height: 1.2em;}#sk-container-id-1 div.sk-label-container {text-align: center;}#sk-container-id-1 div.sk-container {/* jupyter's `normalize.less` sets `[hidden] { display: none; }` but bootstrap.min.css set `[hidden] { display: none !important; }` so we also need the `!important` here to be able to override the default hidden behavior on the sphinx rendered scikit-learn.org. See: https://github.com/scikit-learn/scikit-learn/issues/21755 */display: inline-block !important;position: relative;}#sk-container-id-1 div.sk-text-repr-fallback {display: none;}</style><div id=\"sk-container-id-1\" class=\"sk-top-container\"><div class=\"sk-text-repr-fallback\"><pre>LogisticRegression()</pre><b>In a Jupyter environment, please rerun this cell to show the HTML representation or trust the notebook. <br />On GitHub, the HTML representation is unable to render, please try loading this page with nbviewer.org.</b></div><div class=\"sk-container\" hidden><div class=\"sk-item\"><div class=\"sk-estimator sk-toggleable\"><input class=\"sk-toggleable__control sk-hidden--visually\" id=\"sk-estimator-id-1\" type=\"checkbox\" checked><label for=\"sk-estimator-id-1\" class=\"sk-toggleable__label sk-toggleable__label-arrow\">LogisticRegression</label><div class=\"sk-toggleable__content\"><pre>LogisticRegression()</pre></div></div></div></div></div>"
            ],
            "text/plain": [
              "LogisticRegression()"
            ]
          },
          "execution_count": 39,
          "metadata": {},
          "output_type": "execute_result"
        }
      ],
      "source": [
        "#Implementation of Logistic Regression algorithm\n",
        "#fitting algorithm around training data\n",
        "log = LogisticRegression()\n",
        "log.fit(X_train, y_train)"
      ]
    },
    {
      "cell_type": "code",
      "execution_count": null,
      "id": "99bdb37d",
      "metadata": {
        "id": "99bdb37d"
      },
      "outputs": [],
      "source": [
        "#forming predictions using test data\n",
        "y_pred1 = log.predict(X_test)"
      ]
    },
    {
      "cell_type": "code",
      "execution_count": null,
      "id": "3f4ca53d",
      "metadata": {
        "id": "3f4ca53d",
        "outputId": "8d189713-a39e-4424-84a6-91807a3b1c89"
      },
      "outputs": [
        {
          "data": {
            "text/plain": [
              "0.7573423206547906"
            ]
          },
          "execution_count": 41,
          "metadata": {},
          "output_type": "execute_result"
        }
      ],
      "source": [
        "#percentage of correct predictions\n",
        "accuracy_score(y_test, y_pred1)"
      ]
    },
    {
      "cell_type": "code",
      "execution_count": null,
      "id": "e30ec4cc",
      "metadata": {
        "id": "e30ec4cc",
        "outputId": "e3085a00-fb2a-4376-dc23-18eb4697d376"
      },
      "outputs": [
        {
          "data": {
            "text/plain": [
              "0.7330396475770925"
            ]
          },
          "execution_count": 42,
          "metadata": {},
          "output_type": "execute_result"
        }
      ],
      "source": [
        "#how well positive class predicted\n",
        "precision_score(y_test, y_pred1)"
      ]
    },
    {
      "cell_type": "code",
      "execution_count": null,
      "id": "77ef1017",
      "metadata": {
        "id": "77ef1017",
        "outputId": "b96774f9-5cdb-4180-cd7c-32fbd4aefc13"
      },
      "outputs": [
        {
          "data": {
            "text/plain": [
              "0.8054211035818006"
            ]
          },
          "execution_count": 43,
          "metadata": {},
          "output_type": "execute_result"
        }
      ],
      "source": [
        "#how well model correctly predict the positives out of actual positives\n",
        "recall_score(y_test, y_pred1)"
      ]
    },
    {
      "cell_type": "code",
      "execution_count": null,
      "id": "ab72dc23",
      "metadata": {
        "id": "ab72dc23",
        "outputId": "ad59cee3-ef60-4d08-e4d4-bfd4c3b50bf2"
      },
      "outputs": [
        {
          "data": {
            "text/plain": [
              "0.7675276752767529"
            ]
          },
          "execution_count": 44,
          "metadata": {},
          "output_type": "execute_result"
        }
      ],
      "source": [
        "#combination of precision and recall\n",
        "f1_score(y_test, y_pred1)"
      ]
    },
    {
      "cell_type": "markdown",
      "id": "8d9403d6",
      "metadata": {
        "id": "8d9403d6"
      },
      "source": [
        "## KNN"
      ]
    },
    {
      "cell_type": "code",
      "execution_count": null,
      "id": "fd295798",
      "metadata": {
        "id": "fd295798",
        "outputId": "a7138a12-40b5-4bfe-cad8-0414fea5d66d"
      },
      "outputs": [
        {
          "data": {
            "text/html": [
              "<style>#sk-container-id-2 {color: black;background-color: white;}#sk-container-id-2 pre{padding: 0;}#sk-container-id-2 div.sk-toggleable {background-color: white;}#sk-container-id-2 label.sk-toggleable__label {cursor: pointer;display: block;width: 100%;margin-bottom: 0;padding: 0.3em;box-sizing: border-box;text-align: center;}#sk-container-id-2 label.sk-toggleable__label-arrow:before {content: \"▸\";float: left;margin-right: 0.25em;color: #696969;}#sk-container-id-2 label.sk-toggleable__label-arrow:hover:before {color: black;}#sk-container-id-2 div.sk-estimator:hover label.sk-toggleable__label-arrow:before {color: black;}#sk-container-id-2 div.sk-toggleable__content {max-height: 0;max-width: 0;overflow: hidden;text-align: left;background-color: #f0f8ff;}#sk-container-id-2 div.sk-toggleable__content pre {margin: 0.2em;color: black;border-radius: 0.25em;background-color: #f0f8ff;}#sk-container-id-2 input.sk-toggleable__control:checked~div.sk-toggleable__content {max-height: 200px;max-width: 100%;overflow: auto;}#sk-container-id-2 input.sk-toggleable__control:checked~label.sk-toggleable__label-arrow:before {content: \"▾\";}#sk-container-id-2 div.sk-estimator input.sk-toggleable__control:checked~label.sk-toggleable__label {background-color: #d4ebff;}#sk-container-id-2 div.sk-label input.sk-toggleable__control:checked~label.sk-toggleable__label {background-color: #d4ebff;}#sk-container-id-2 input.sk-hidden--visually {border: 0;clip: rect(1px 1px 1px 1px);clip: rect(1px, 1px, 1px, 1px);height: 1px;margin: -1px;overflow: hidden;padding: 0;position: absolute;width: 1px;}#sk-container-id-2 div.sk-estimator {font-family: monospace;background-color: #f0f8ff;border: 1px dotted black;border-radius: 0.25em;box-sizing: border-box;margin-bottom: 0.5em;}#sk-container-id-2 div.sk-estimator:hover {background-color: #d4ebff;}#sk-container-id-2 div.sk-parallel-item::after {content: \"\";width: 100%;border-bottom: 1px solid gray;flex-grow: 1;}#sk-container-id-2 div.sk-label:hover label.sk-toggleable__label {background-color: #d4ebff;}#sk-container-id-2 div.sk-serial::before {content: \"\";position: absolute;border-left: 1px solid gray;box-sizing: border-box;top: 0;bottom: 0;left: 50%;z-index: 0;}#sk-container-id-2 div.sk-serial {display: flex;flex-direction: column;align-items: center;background-color: white;padding-right: 0.2em;padding-left: 0.2em;position: relative;}#sk-container-id-2 div.sk-item {position: relative;z-index: 1;}#sk-container-id-2 div.sk-parallel {display: flex;align-items: stretch;justify-content: center;background-color: white;position: relative;}#sk-container-id-2 div.sk-item::before, #sk-container-id-2 div.sk-parallel-item::before {content: \"\";position: absolute;border-left: 1px solid gray;box-sizing: border-box;top: 0;bottom: 0;left: 50%;z-index: -1;}#sk-container-id-2 div.sk-parallel-item {display: flex;flex-direction: column;z-index: 1;position: relative;background-color: white;}#sk-container-id-2 div.sk-parallel-item:first-child::after {align-self: flex-end;width: 50%;}#sk-container-id-2 div.sk-parallel-item:last-child::after {align-self: flex-start;width: 50%;}#sk-container-id-2 div.sk-parallel-item:only-child::after {width: 0;}#sk-container-id-2 div.sk-dashed-wrapped {border: 1px dashed gray;margin: 0 0.4em 0.5em 0.4em;box-sizing: border-box;padding-bottom: 0.4em;background-color: white;}#sk-container-id-2 div.sk-label label {font-family: monospace;font-weight: bold;display: inline-block;line-height: 1.2em;}#sk-container-id-2 div.sk-label-container {text-align: center;}#sk-container-id-2 div.sk-container {/* jupyter's `normalize.less` sets `[hidden] { display: none; }` but bootstrap.min.css set `[hidden] { display: none !important; }` so we also need the `!important` here to be able to override the default hidden behavior on the sphinx rendered scikit-learn.org. See: https://github.com/scikit-learn/scikit-learn/issues/21755 */display: inline-block !important;position: relative;}#sk-container-id-2 div.sk-text-repr-fallback {display: none;}</style><div id=\"sk-container-id-2\" class=\"sk-top-container\"><div class=\"sk-text-repr-fallback\"><pre>KNeighborsClassifier()</pre><b>In a Jupyter environment, please rerun this cell to show the HTML representation or trust the notebook. <br />On GitHub, the HTML representation is unable to render, please try loading this page with nbviewer.org.</b></div><div class=\"sk-container\" hidden><div class=\"sk-item\"><div class=\"sk-estimator sk-toggleable\"><input class=\"sk-toggleable__control sk-hidden--visually\" id=\"sk-estimator-id-2\" type=\"checkbox\" checked><label for=\"sk-estimator-id-2\" class=\"sk-toggleable__label sk-toggleable__label-arrow\">KNeighborsClassifier</label><div class=\"sk-toggleable__content\"><pre>KNeighborsClassifier()</pre></div></div></div></div></div>"
            ],
            "text/plain": [
              "KNeighborsClassifier()"
            ]
          },
          "execution_count": 45,
          "metadata": {},
          "output_type": "execute_result"
        }
      ],
      "source": [
        "#Implementation of K Neighbors Classifier algorithm\n",
        "#fitting algorithm around training data\n",
        "knn = KNeighborsClassifier()\n",
        "knn.fit(X_train, y_train)"
      ]
    },
    {
      "cell_type": "code",
      "execution_count": null,
      "id": "cf90a2ec",
      "metadata": {
        "id": "cf90a2ec"
      },
      "outputs": [],
      "source": [
        "y_pred2 = knn.predict(X_test)"
      ]
    },
    {
      "cell_type": "code",
      "execution_count": null,
      "id": "0e51cdec",
      "metadata": {
        "id": "0e51cdec",
        "outputId": "da4d4d2d-2dd6-409f-f911-dcc1c9333f71"
      },
      "outputs": [
        {
          "data": {
            "text/plain": [
              "0.8550794415021666"
            ]
          },
          "execution_count": 47,
          "metadata": {},
          "output_type": "execute_result"
        }
      ],
      "source": [
        "accuracy_score(y_test, y_pred2)"
      ]
    },
    {
      "cell_type": "code",
      "execution_count": null,
      "id": "98be2077",
      "metadata": {
        "id": "98be2077",
        "outputId": "e4a296c9-c564-4568-fcef-5f727a72d49c"
      },
      "outputs": [
        {
          "data": {
            "text/plain": [
              "0.7990196078431373"
            ]
          },
          "execution_count": 48,
          "metadata": {},
          "output_type": "execute_result"
        }
      ],
      "source": [
        "precision_score(y_test, y_pred2)"
      ]
    },
    {
      "cell_type": "code",
      "execution_count": null,
      "id": "07e10d87",
      "metadata": {
        "id": "07e10d87",
        "outputId": "b9ed7338-2cf4-41c7-ba50-065a34c3f83f"
      },
      "outputs": [
        {
          "data": {
            "text/plain": [
              "0.9467570183930301"
            ]
          },
          "execution_count": 49,
          "metadata": {},
          "output_type": "execute_result"
        }
      ],
      "source": [
        "recall_score(y_test, y_pred2)"
      ]
    },
    {
      "cell_type": "code",
      "execution_count": null,
      "id": "4f3bff29",
      "metadata": {
        "id": "4f3bff29",
        "outputId": "7ed8d9c9-4e7a-409e-c59f-29857aa6f5e1"
      },
      "outputs": [
        {
          "data": {
            "text/plain": [
              "0.8666371289322109"
            ]
          },
          "execution_count": 50,
          "metadata": {},
          "output_type": "execute_result"
        }
      ],
      "source": [
        "f1_score(y_test, y_pred2)"
      ]
    },
    {
      "cell_type": "markdown",
      "id": "ded6f5b6",
      "metadata": {
        "id": "ded6f5b6"
      },
      "source": [
        "## Random Forest"
      ]
    },
    {
      "cell_type": "code",
      "execution_count": null,
      "id": "a7ea60fa",
      "metadata": {
        "id": "a7ea60fa",
        "outputId": "8b7e9c2b-c1c3-4093-c93a-ed3ed5963cc7"
      },
      "outputs": [
        {
          "data": {
            "text/html": [
              "<style>#sk-container-id-3 {color: black;background-color: white;}#sk-container-id-3 pre{padding: 0;}#sk-container-id-3 div.sk-toggleable {background-color: white;}#sk-container-id-3 label.sk-toggleable__label {cursor: pointer;display: block;width: 100%;margin-bottom: 0;padding: 0.3em;box-sizing: border-box;text-align: center;}#sk-container-id-3 label.sk-toggleable__label-arrow:before {content: \"▸\";float: left;margin-right: 0.25em;color: #696969;}#sk-container-id-3 label.sk-toggleable__label-arrow:hover:before {color: black;}#sk-container-id-3 div.sk-estimator:hover label.sk-toggleable__label-arrow:before {color: black;}#sk-container-id-3 div.sk-toggleable__content {max-height: 0;max-width: 0;overflow: hidden;text-align: left;background-color: #f0f8ff;}#sk-container-id-3 div.sk-toggleable__content pre {margin: 0.2em;color: black;border-radius: 0.25em;background-color: #f0f8ff;}#sk-container-id-3 input.sk-toggleable__control:checked~div.sk-toggleable__content {max-height: 200px;max-width: 100%;overflow: auto;}#sk-container-id-3 input.sk-toggleable__control:checked~label.sk-toggleable__label-arrow:before {content: \"▾\";}#sk-container-id-3 div.sk-estimator input.sk-toggleable__control:checked~label.sk-toggleable__label {background-color: #d4ebff;}#sk-container-id-3 div.sk-label input.sk-toggleable__control:checked~label.sk-toggleable__label {background-color: #d4ebff;}#sk-container-id-3 input.sk-hidden--visually {border: 0;clip: rect(1px 1px 1px 1px);clip: rect(1px, 1px, 1px, 1px);height: 1px;margin: -1px;overflow: hidden;padding: 0;position: absolute;width: 1px;}#sk-container-id-3 div.sk-estimator {font-family: monospace;background-color: #f0f8ff;border: 1px dotted black;border-radius: 0.25em;box-sizing: border-box;margin-bottom: 0.5em;}#sk-container-id-3 div.sk-estimator:hover {background-color: #d4ebff;}#sk-container-id-3 div.sk-parallel-item::after {content: \"\";width: 100%;border-bottom: 1px solid gray;flex-grow: 1;}#sk-container-id-3 div.sk-label:hover label.sk-toggleable__label {background-color: #d4ebff;}#sk-container-id-3 div.sk-serial::before {content: \"\";position: absolute;border-left: 1px solid gray;box-sizing: border-box;top: 0;bottom: 0;left: 50%;z-index: 0;}#sk-container-id-3 div.sk-serial {display: flex;flex-direction: column;align-items: center;background-color: white;padding-right: 0.2em;padding-left: 0.2em;position: relative;}#sk-container-id-3 div.sk-item {position: relative;z-index: 1;}#sk-container-id-3 div.sk-parallel {display: flex;align-items: stretch;justify-content: center;background-color: white;position: relative;}#sk-container-id-3 div.sk-item::before, #sk-container-id-3 div.sk-parallel-item::before {content: \"\";position: absolute;border-left: 1px solid gray;box-sizing: border-box;top: 0;bottom: 0;left: 50%;z-index: -1;}#sk-container-id-3 div.sk-parallel-item {display: flex;flex-direction: column;z-index: 1;position: relative;background-color: white;}#sk-container-id-3 div.sk-parallel-item:first-child::after {align-self: flex-end;width: 50%;}#sk-container-id-3 div.sk-parallel-item:last-child::after {align-self: flex-start;width: 50%;}#sk-container-id-3 div.sk-parallel-item:only-child::after {width: 0;}#sk-container-id-3 div.sk-dashed-wrapped {border: 1px dashed gray;margin: 0 0.4em 0.5em 0.4em;box-sizing: border-box;padding-bottom: 0.4em;background-color: white;}#sk-container-id-3 div.sk-label label {font-family: monospace;font-weight: bold;display: inline-block;line-height: 1.2em;}#sk-container-id-3 div.sk-label-container {text-align: center;}#sk-container-id-3 div.sk-container {/* jupyter's `normalize.less` sets `[hidden] { display: none; }` but bootstrap.min.css set `[hidden] { display: none !important; }` so we also need the `!important` here to be able to override the default hidden behavior on the sphinx rendered scikit-learn.org. See: https://github.com/scikit-learn/scikit-learn/issues/21755 */display: inline-block !important;position: relative;}#sk-container-id-3 div.sk-text-repr-fallback {display: none;}</style><div id=\"sk-container-id-3\" class=\"sk-top-container\"><div class=\"sk-text-repr-fallback\"><pre>RandomForestClassifier()</pre><b>In a Jupyter environment, please rerun this cell to show the HTML representation or trust the notebook. <br />On GitHub, the HTML representation is unable to render, please try loading this page with nbviewer.org.</b></div><div class=\"sk-container\" hidden><div class=\"sk-item\"><div class=\"sk-estimator sk-toggleable\"><input class=\"sk-toggleable__control sk-hidden--visually\" id=\"sk-estimator-id-3\" type=\"checkbox\" checked><label for=\"sk-estimator-id-3\" class=\"sk-toggleable__label sk-toggleable__label-arrow\">RandomForestClassifier</label><div class=\"sk-toggleable__content\"><pre>RandomForestClassifier()</pre></div></div></div></div></div>"
            ],
            "text/plain": [
              "RandomForestClassifier()"
            ]
          },
          "execution_count": 51,
          "metadata": {},
          "output_type": "execute_result"
        }
      ],
      "source": [
        "#Implementation of Random Forest algorithm\n",
        "#fitting algorithm around training data\n",
        "rf = RandomForestClassifier()\n",
        "rf.fit(X_train, y_train)"
      ]
    },
    {
      "cell_type": "code",
      "execution_count": null,
      "id": "c2942f42",
      "metadata": {
        "id": "c2942f42"
      },
      "outputs": [],
      "source": [
        "y_pred3 = rf.predict(X_test)"
      ]
    },
    {
      "cell_type": "code",
      "execution_count": null,
      "id": "197f2038",
      "metadata": {
        "id": "197f2038",
        "outputId": "9bcd6cc0-1080-42d5-cdc1-ecea9dc6e463"
      },
      "outputs": [
        {
          "data": {
            "text/plain": [
              "0.915743861338469"
            ]
          },
          "execution_count": 53,
          "metadata": {},
          "output_type": "execute_result"
        }
      ],
      "source": [
        "accuracy_score(y_test, y_pred3)"
      ]
    },
    {
      "cell_type": "code",
      "execution_count": null,
      "id": "866c70f5",
      "metadata": {
        "id": "866c70f5",
        "outputId": "9166df1f-d73a-4cbd-bf03-5a84bbd059d3"
      },
      "outputs": [
        {
          "data": {
            "text/plain": [
              "0.9001865671641791"
            ]
          },
          "execution_count": 54,
          "metadata": {},
          "output_type": "execute_result"
        }
      ],
      "source": [
        "precision_score(y_test, y_pred3)"
      ]
    },
    {
      "cell_type": "code",
      "execution_count": null,
      "id": "002ae2a9",
      "metadata": {
        "id": "002ae2a9",
        "outputId": "f130a3c9-653c-4336-9da0-7e3f2ffd2604"
      },
      "outputs": [
        {
          "data": {
            "text/plain": [
              "0.9341723136495643"
            ]
          },
          "execution_count": 55,
          "metadata": {},
          "output_type": "execute_result"
        }
      ],
      "source": [
        "recall_score(y_test, y_pred3)"
      ]
    },
    {
      "cell_type": "code",
      "execution_count": null,
      "id": "60568818",
      "metadata": {
        "id": "60568818",
        "outputId": "511f1322-5850-4b60-a914-3cc8efebb603"
      },
      "outputs": [
        {
          "data": {
            "text/plain": [
              "0.9168646080760094"
            ]
          },
          "execution_count": 56,
          "metadata": {},
          "output_type": "execute_result"
        }
      ],
      "source": [
        "f1_score(y_test, y_pred3)"
      ]
    },
    {
      "cell_type": "code",
      "execution_count": null,
      "id": "c418b698",
      "metadata": {
        "id": "c418b698"
      },
      "outputs": [],
      "source": [
        "#create dataframe to store scores\n",
        "final_data = pd.DataFrame({'Model': ['LR', 'KNN', 'RF'],\n",
        "             'ACC': [accuracy_score(y_test, y_pred1)*100,\n",
        "                    accuracy_score(y_test, y_pred2)*100,\n",
        "                    accuracy_score(y_test, y_pred3)*100]})"
      ]
    },
    {
      "cell_type": "code",
      "execution_count": null,
      "id": "73f8992c",
      "metadata": {
        "id": "73f8992c",
        "outputId": "8e4604bf-d56f-4ccc-9c5e-c0aed03c7858"
      },
      "outputs": [
        {
          "data": {
            "text/plain": [
              "<AxesSubplot: xlabel='Model', ylabel='ACC'>"
            ]
          },
          "execution_count": 58,
          "metadata": {},
          "output_type": "execute_result"
        },
        {
          "data": {
            "image/png": "[encoded data removed]",
            "text/plain": [
              "<Figure size 640x480 with 1 Axes>"
            ]
          },
          "metadata": {},
          "output_type": "display_data"
        }
      ],
      "source": [
        "#visualization of dataframe\n",
        "sns.barplot(x = final_data['Model'], y = final_data['ACC'])"
      ]
    },
    {
      "cell_type": "markdown",
      "id": "21cbafa8",
      "metadata": {
        "id": "21cbafa8"
      },
      "source": [
        "## Save Model\n",
        "The Random Forest Model is clearly the best option based on all scores.  We will now save that model"
      ]
    },
    {
      "cell_type": "code",
      "execution_count": null,
      "id": "5f408bc0",
      "metadata": {
        "id": "5f408bc0"
      },
      "outputs": [],
      "source": [
        "X = wine_data.drop('quality', axis = 1)\n",
        "y = wine_data['quality']"
      ]
    },
    {
      "cell_type": "code",
      "execution_count": null,
      "id": "27920509",
      "metadata": {
        "id": "27920509",
        "outputId": "85c25b12-37cc-4500-c24b-650cecda4ee7"
      },
      "outputs": [
        {
          "data": {
            "text/plain": [
              "0    5192\n",
              "1    5192\n",
              "Name: quality, dtype: int64"
            ]
          },
          "execution_count": 74,
          "metadata": {},
          "output_type": "execute_result"
        }
      ],
      "source": [
        "X_res, y_res = SMOTE().fit_resample(X,y)\n",
        "y_res.value_counts()"
      ]
    },
    {
      "cell_type": "code",
      "execution_count": null,
      "id": "b7f86111",
      "metadata": {
        "id": "b7f86111"
      },
      "outputs": [],
      "source": [
        "st = StandardScaler()\n",
        "X = st.fit_transform(X_res)"
      ]
    },
    {
      "cell_type": "code",
      "execution_count": null,
      "id": "71b4ae20",
      "metadata": {
        "id": "71b4ae20",
        "outputId": "ba0b89f6-c59b-4cdd-daf3-6c148e2e3170"
      },
      "outputs": [
        {
          "data": {
            "text/html": [
              "<style>#sk-container-id-4 {color: black;background-color: white;}#sk-container-id-4 pre{padding: 0;}#sk-container-id-4 div.sk-toggleable {background-color: white;}#sk-container-id-4 label.sk-toggleable__label {cursor: pointer;display: block;width: 100%;margin-bottom: 0;padding: 0.3em;box-sizing: border-box;text-align: center;}#sk-container-id-4 label.sk-toggleable__label-arrow:before {content: \"▸\";float: left;margin-right: 0.25em;color: #696969;}#sk-container-id-4 label.sk-toggleable__label-arrow:hover:before {color: black;}#sk-container-id-4 div.sk-estimator:hover label.sk-toggleable__label-arrow:before {color: black;}#sk-container-id-4 div.sk-toggleable__content {max-height: 0;max-width: 0;overflow: hidden;text-align: left;background-color: #f0f8ff;}#sk-container-id-4 div.sk-toggleable__content pre {margin: 0.2em;color: black;border-radius: 0.25em;background-color: #f0f8ff;}#sk-container-id-4 input.sk-toggleable__control:checked~div.sk-toggleable__content {max-height: 200px;max-width: 100%;overflow: auto;}#sk-container-id-4 input.sk-toggleable__control:checked~label.sk-toggleable__label-arrow:before {content: \"▾\";}#sk-container-id-4 div.sk-estimator input.sk-toggleable__control:checked~label.sk-toggleable__label {background-color: #d4ebff;}#sk-container-id-4 div.sk-label input.sk-toggleable__control:checked~label.sk-toggleable__label {background-color: #d4ebff;}#sk-container-id-4 input.sk-hidden--visually {border: 0;clip: rect(1px 1px 1px 1px);clip: rect(1px, 1px, 1px, 1px);height: 1px;margin: -1px;overflow: hidden;padding: 0;position: absolute;width: 1px;}#sk-container-id-4 div.sk-estimator {font-family: monospace;background-color: #f0f8ff;border: 1px dotted black;border-radius: 0.25em;box-sizing: border-box;margin-bottom: 0.5em;}#sk-container-id-4 div.sk-estimator:hover {background-color: #d4ebff;}#sk-container-id-4 div.sk-parallel-item::after {content: \"\";width: 100%;border-bottom: 1px solid gray;flex-grow: 1;}#sk-container-id-4 div.sk-label:hover label.sk-toggleable__label {background-color: #d4ebff;}#sk-container-id-4 div.sk-serial::before {content: \"\";position: absolute;border-left: 1px solid gray;box-sizing: border-box;top: 0;bottom: 0;left: 50%;z-index: 0;}#sk-container-id-4 div.sk-serial {display: flex;flex-direction: column;align-items: center;background-color: white;padding-right: 0.2em;padding-left: 0.2em;position: relative;}#sk-container-id-4 div.sk-item {position: relative;z-index: 1;}#sk-container-id-4 div.sk-parallel {display: flex;align-items: stretch;justify-content: center;background-color: white;position: relative;}#sk-container-id-4 div.sk-item::before, #sk-container-id-4 div.sk-parallel-item::before {content: \"\";position: absolute;border-left: 1px solid gray;box-sizing: border-box;top: 0;bottom: 0;left: 50%;z-index: -1;}#sk-container-id-4 div.sk-parallel-item {display: flex;flex-direction: column;z-index: 1;position: relative;background-color: white;}#sk-container-id-4 div.sk-parallel-item:first-child::after {align-self: flex-end;width: 50%;}#sk-container-id-4 div.sk-parallel-item:last-child::after {align-self: flex-start;width: 50%;}#sk-container-id-4 div.sk-parallel-item:only-child::after {width: 0;}#sk-container-id-4 div.sk-dashed-wrapped {border: 1px dashed gray;margin: 0 0.4em 0.5em 0.4em;box-sizing: border-box;padding-bottom: 0.4em;background-color: white;}#sk-container-id-4 div.sk-label label {font-family: monospace;font-weight: bold;display: inline-block;line-height: 1.2em;}#sk-container-id-4 div.sk-label-container {text-align: center;}#sk-container-id-4 div.sk-container {/* jupyter's `normalize.less` sets `[hidden] { display: none; }` but bootstrap.min.css set `[hidden] { display: none !important; }` so we also need the `!important` here to be able to override the default hidden behavior on the sphinx rendered scikit-learn.org. See: https://github.com/scikit-learn/scikit-learn/issues/21755 */display: inline-block !important;position: relative;}#sk-container-id-4 div.sk-text-repr-fallback {display: none;}</style><div id=\"sk-container-id-4\" class=\"sk-top-container\"><div class=\"sk-text-repr-fallback\"><pre>RandomForestClassifier()</pre><b>In a Jupyter environment, please rerun this cell to show the HTML representation or trust the notebook. <br />On GitHub, the HTML representation is unable to render, please try loading this page with nbviewer.org.</b></div><div class=\"sk-container\" hidden><div class=\"sk-item\"><div class=\"sk-estimator sk-toggleable\"><input class=\"sk-toggleable__control sk-hidden--visually\" id=\"sk-estimator-id-4\" type=\"checkbox\" checked><label for=\"sk-estimator-id-4\" class=\"sk-toggleable__label sk-toggleable__label-arrow\">RandomForestClassifier</label><div class=\"sk-toggleable__content\"><pre>RandomForestClassifier()</pre></div></div></div></div></div>"
            ],
            "text/plain": [
              "RandomForestClassifier()"
            ]
          },
          "execution_count": 76,
          "metadata": {},
          "output_type": "execute_result"
        }
      ],
      "source": [
        "rf = RandomForestClassifier()\n",
        "rf.fit(X, y_res)"
      ]
    },
    {
      "cell_type": "code",
      "execution_count": null,
      "id": "e0b09370",
      "metadata": {
        "id": "e0b09370",
        "outputId": "9b44684c-1cb8-4e66-e1eb-78e871db2327"
      },
      "outputs": [
        {
          "data": {
            "text/plain": [
              "['wine_quality_prediction_model']"
            ]
          },
          "execution_count": 77,
          "metadata": {},
          "output_type": "execute_result"
        }
      ],
      "source": [
        "joblib.dump(rf, 'wine_quality_prediction_model')"
      ]
    },
    {
      "cell_type": "code",
      "execution_count": null,
      "id": "69158009",
      "metadata": {
        "id": "69158009"
      },
      "outputs": [],
      "source": [
        "model = joblib.load('wine_quality_prediction_model')"
      ]
    },
    {
      "cell_type": "markdown",
      "id": "e2094cd0",
      "metadata": {
        "id": "e2094cd0"
      },
      "source": [
        "## Evaluating Performance"
      ]
    },
    {
      "cell_type": "code",
      "execution_count": null,
      "id": "c5b41bfb",
      "metadata": {
        "id": "c5b41bfb",
        "outputId": "ee4820f2-a9c2-42e1-a275-35899beda11e"
      },
      "outputs": [
        {
          "data": {
            "image/png": "[encoded data removed]",
            "text/plain": [
              "<Figure size 300x300 with 1 Axes>"
            ]
          },
          "metadata": {},
          "output_type": "display_data"
        }
      ],
      "source": [
        "sns.set(font_scale = 1.5)\n",
        "\n",
        "#function to create confusion matrix\n",
        "#tool that can be used for future confusion matrices to evaluate performance\n",
        "def plot_conf_mat(y_test, y_preds):\n",
        "\n",
        "    fig, ax = plt.subplots(figsize = (3,3))\n",
        "    ax = sns.heatmap(confusion_matrix(y_test, y_preds), annot = True, cbar = False, fmt = 'g')\n",
        "    plt.xlabel(\"Predicted Label\")\n",
        "    plt.ylabel(\"True Label\")\n",
        "\n",
        "plot_conf_mat(y_test, y_pred3)"
      ]
    },
    {
      "cell_type": "markdown",
      "id": "fe455bb4",
      "metadata": {
        "id": "fe455bb4"
      },
      "source": [
        "## Introducing New Data\n",
        "The model will now form a prediction of the wine quality based on new data"
      ]
    },
    {
      "cell_type": "code",
      "execution_count": null,
      "id": "c0984d5e",
      "metadata": {
        "id": "c0984d5e",
        "outputId": "ffae29cf-7bd5-48fe-bcc1-b35a57704568",
        "colab": {
          "base_uri": "https://localhost:8080/",
          "height": 236
        }
      },
      "outputs": [
        {
          "output_type": "error",
          "ename": "NameError",
          "evalue": "ignored",
          "traceback": [
            "\u001b[0;31m---------------------------------------------------------------------------\u001b[0m",
            "\u001b[0;31mNameError\u001b[0m                                 Traceback (most recent call last)",
            "\u001b[0;32m<ipython-input-1-4181851b93ad>\u001b[0m in \u001b[0;36m<module>\u001b[0;34m\u001b[0m\n\u001b[0;32m----> 1\u001b[0;31m new_data = pd.DataFrame({'type': 1,\n\u001b[0m\u001b[1;32m      2\u001b[0m                         \u001b[0;34m'fixed acidity'\u001b[0m\u001b[0;34m:\u001b[0m \u001b[0;36m7.5\u001b[0m\u001b[0;34m,\u001b[0m\u001b[0;34m\u001b[0m\u001b[0;34m\u001b[0m\u001b[0m\n\u001b[1;32m      3\u001b[0m                         \u001b[0;34m'volatile acidity'\u001b[0m\u001b[0;34m:\u001b[0m \u001b[0;36m0.55\u001b[0m\u001b[0;34m,\u001b[0m\u001b[0;34m\u001b[0m\u001b[0;34m\u001b[0m\u001b[0m\n\u001b[1;32m      4\u001b[0m                         \u001b[0;34m'citric acid'\u001b[0m\u001b[0;34m:\u001b[0m \u001b[0;36m0.06\u001b[0m\u001b[0;34m,\u001b[0m\u001b[0;34m\u001b[0m\u001b[0;34m\u001b[0m\u001b[0m\n\u001b[1;32m      5\u001b[0m                         \u001b[0;34m'residual sugar'\u001b[0m\u001b[0;34m:\u001b[0m \u001b[0;36m1.0\u001b[0m\u001b[0;34m,\u001b[0m\u001b[0;34m\u001b[0m\u001b[0;34m\u001b[0m\u001b[0m\n",
            "\u001b[0;31mNameError\u001b[0m: name 'pd' is not defined"
          ]
        }
      ],
      "source": [
        "new_data = pd.DataFrame({'type': 1,\n",
        "                        'fixed acidity': 7.5,\n",
        "                        'volatile acidity': 0.55,\n",
        "                        'citric acid': 0.06,\n",
        "                        'residual sugar': 1.0,\n",
        "                        'chlorides': 0.072,\n",
        "                        'free sulfur dioxide': 15.0,\n",
        "                        'total sulfur dioxide': 30.0,\n",
        "                        'density': 0.9957,\n",
        "                        'pH': 3.34,\n",
        "                        'sulphates': 0.52,\n",
        "                        'alcohol': 10.9,}, index = [0])\n",
        "\n",
        "new_data"
      ]
    },
    {
      "cell_type": "code",
      "execution_count": null,
      "id": "d82d6783",
      "metadata": {
        "id": "d82d6783"
      },
      "outputs": [],
      "source": [
        "test = st.transform(new_data)\n",
        "p = model.predict(test)"
      ]
    },
    {
      "cell_type": "code",
      "execution_count": null,
      "id": "111b0030",
      "metadata": {
        "id": "111b0030",
        "outputId": "e99ffcf8-54d8-4e3c-d65b-46aa92b73e5e"
      },
      "outputs": [
        {
          "name": "stdout",
          "output_type": "stream",
          "text": [
            "Bad Quality Wine\n"
          ]
        }
      ],
      "source": [
        "#displays if wine is good or bad quality based on data values\n",
        "if p[0] == 1:\n",
        "    print(\"Good Quality Wine\")\n",
        "else:\n",
        "    print(\"Bad Quality Wine\")"
      ]
    },
    {
      "cell_type": "markdown",
      "id": "b69d8d49",
      "metadata": {
        "id": "b69d8d49"
      },
      "source": [
        "## User Interface\n",
        "Run the cell below and input values to be used for a prediction"
      ]
    },
    {
      "cell_type": "code",
      "execution_count": null,
      "id": "9a43a4fe",
      "metadata": {
        "scrolled": true,
        "id": "9a43a4fe",
        "outputId": "2896ef6c-6648-4281-da63-ec0e791ebcd3"
      },
      "outputs": [
        {
          "name": "stdout",
          "output_type": "stream",
          "text": [
            "Wine Type (Enter 0 for red, 1 for white): 1\n",
            "Fixed Acidity: 6.2\n",
            "Volatile Acidity: 0.66\n",
            "Citric Acid: 0.48\n",
            "Residual Sugar: 1.2\n",
            "Chlorides: 0.029\n",
            "Free Sulfur Dioxide: 29.0\n",
            "Total Sulfur Dioxide: 75.0\n",
            "Density: 0.9892\n",
            "pH: 3.33\n",
            "Sulphates: 0.39\n",
            "Alcohol Level: 12.8\n"
          ]
        }
      ],
      "source": [
        "t = input(\"Wine Type (Enter 0 for red, 1 for white): \")\n",
        "fa = input(\"Fixed Acidity: \")\n",
        "va = input(\"Volatile Acidity: \")\n",
        "ca = input(\"Citric Acid: \")\n",
        "rs = input(\"Residual Sugar: \")\n",
        "ch = input(\"Chlorides: \")\n",
        "fs = input(\"Free Sulfur Dioxide: \")\n",
        "ts = input(\"Total Sulfur Dioxide: \")\n",
        "d = input(\"Density: \")\n",
        "ph = input(\"pH: \")\n",
        "su = input(\"Sulphates: \")\n",
        "al = input(\"Alcohol Level: \")"
      ]
    },
    {
      "cell_type": "code",
      "execution_count": null,
      "id": "83e4131a",
      "metadata": {
        "id": "83e4131a",
        "outputId": "d52d3ae9-aed6-4a0e-feef-46cbe1b2adfe"
      },
      "outputs": [
        {
          "data": {
            "text/html": [
              "<div>\n",
              "<style scoped>\n",
              "    .dataframe tbody tr th:only-of-type {\n",
              "        vertical-align: middle;\n",
              "    }\n",
              "\n",
              "    .dataframe tbody tr th {\n",
              "        vertical-align: top;\n",
              "    }\n",
              "\n",
              "    .dataframe thead th {\n",
              "        text-align: right;\n",
              "    }\n",
              "</style>\n",
              "<table border=\"1\" class=\"dataframe\">\n",
              "  <thead>\n",
              "    <tr style=\"text-align: right;\">\n",
              "      <th></th>\n",
              "      <th>type</th>\n",
              "      <th>fixed acidity</th>\n",
              "      <th>volatile acidity</th>\n",
              "      <th>citric acid</th>\n",
              "      <th>residual sugar</th>\n",
              "      <th>chlorides</th>\n",
              "      <th>free sulfur dioxide</th>\n",
              "      <th>total sulfur dioxide</th>\n",
              "      <th>density</th>\n",
              "      <th>pH</th>\n",
              "      <th>sulphates</th>\n",
              "      <th>alcohol</th>\n",
              "    </tr>\n",
              "  </thead>\n",
              "  <tbody>\n",
              "    <tr>\n",
              "      <th>0</th>\n",
              "      <td>1</td>\n",
              "      <td>6.2</td>\n",
              "      <td>0.66</td>\n",
              "      <td>0.48</td>\n",
              "      <td>1.2</td>\n",
              "      <td>0.029</td>\n",
              "      <td>29.0</td>\n",
              "      <td>75.0</td>\n",
              "      <td>0.9892</td>\n",
              "      <td>3.33</td>\n",
              "      <td>0.39</td>\n",
              "      <td>12.8</td>\n",
              "    </tr>\n",
              "  </tbody>\n",
              "</table>\n",
              "</div>"
            ],
            "text/plain": [
              "  type fixed acidity volatile acidity citric acid residual sugar chlorides  \\\n",
              "0    1           6.2             0.66        0.48            1.2     0.029   \n",
              "\n",
              "  free sulfur dioxide total sulfur dioxide density    pH sulphates alcohol  \n",
              "0                29.0                 75.0  0.9892  3.33      0.39    12.8  "
            ]
          },
          "execution_count": 84,
          "metadata": {},
          "output_type": "execute_result"
        }
      ],
      "source": [
        "input_data = pd.DataFrame({'type': t,\n",
        "                        'fixed acidity': fa,\n",
        "                        'volatile acidity': va,\n",
        "                        'citric acid': ca,\n",
        "                        'residual sugar': rs,\n",
        "                        'chlorides': ch,\n",
        "                        'free sulfur dioxide': fs,\n",
        "                        'total sulfur dioxide': ts,\n",
        "                        'density': d,\n",
        "                        'pH': ph,\n",
        "                        'sulphates': su,\n",
        "                        'alcohol': al,}, index = [0])\n",
        "\n",
        "input_data"
      ]
    },
    {
      "cell_type": "code",
      "execution_count": null,
      "id": "77bd9d69",
      "metadata": {
        "id": "77bd9d69",
        "outputId": "8261c0a2-bf35-4c5a-a01c-849a32b6e3e1"
      },
      "outputs": [
        {
          "name": "stdout",
          "output_type": "stream",
          "text": [
            "Good Quality Wine\n"
          ]
        }
      ],
      "source": [
        "test1 = st.transform(input_data)\n",
        "p1 = model.predict(test1)\n",
        "if p1[0] == 1:\n",
        "    print(\"Good Quality Wine\")\n",
        "else:\n",
        "    print(\"Bad Quality Wine\")"
      ]
    },
    {
      "cell_type": "code",
      "execution_count": null,
      "id": "f07f0a6c",
      "metadata": {
        "id": "f07f0a6c"
      },
      "outputs": [],
      "source": []
    }
  ],
  "metadata": {
    "kernelspec": {
      "display_name": "Python 3 (ipykernel)",
      "language": "python",
      "name": "python3"
    },
    "language_info": {
      "codemirror_mode": {
        "name": "ipython",
        "version": 3
      },
      "file_extension": ".py",
      "mimetype": "text/x-python",
      "name": "python",
      "nbconvert_exporter": "python",
      "pygments_lexer": "ipython3",
      "version": "3.10.9"
    },
    "colab": {
      "provenance": [],
      "include_colab_link": true
    }
  },
  "nbformat": 4,
  "nbformat_minor": 5
}